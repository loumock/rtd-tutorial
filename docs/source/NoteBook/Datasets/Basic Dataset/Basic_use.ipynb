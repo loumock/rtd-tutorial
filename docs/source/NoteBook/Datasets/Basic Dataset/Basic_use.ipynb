{
 "cells": [
  {
   "cell_type": "markdown",
   "metadata": {},
   "source": [
    "# Basic use of database (.txt and binary file)"
   ]
  },
  {
   "cell_type": "markdown",
   "metadata": {},
   "source": [
    "The goal of this tutorial is to make you learn how to efficiently use database that are store in .txt files or binary file.\n",
    "\n",
    "Note that those types of formats are really commonly used.\n",
    "\n",
    "You will also learn the convension that will make your life easier for your futur use of databases."
   ]
  },
  {
   "cell_type": "markdown",
   "metadata": {},
   "source": [
    "# 1 Read content of files"
   ]
  },
  {
   "cell_type": "markdown",
   "metadata": {},
   "source": [
    "Python give us to upportunity to open (with `open()` function), read and write in existing file really easilly.\n",
    "\n",
    "It is important to close (with the method `.close()`) the file that you won't use latter in your code to free the memory.\n",
    "\n",
    "TODO: open the file named \"ex1.txt\" and output his content using the documentation."
   ]
  },
  {
   "cell_type": "markdown",
   "metadata": {},
   "source": [
    "### Solution"
   ]
  },
  {
   "cell_type": "code",
   "execution_count": 20,
   "metadata": {},
   "outputs": [
    {
     "name": "stdout",
     "output_type": "stream",
     "text": [
      "<_io.TextIOWrapper name='files/ex1.txt' mode='r' encoding='UTF-8'>\n"
     ]
    }
   ],
   "source": [
    "# Define the folder where the file are stored\n",
    "file_folder = \"files/\"\n",
    "\n",
    "# Open the file named \"ex1.txt\"\n",
    "file1 = open(file_folder + \"ex1.txt\", \"r\")\n",
    "\n",
    "print(file1)"
   ]
  },
  {
   "cell_type": "markdown",
   "metadata": {},
   "source": [
    "The argument `\"r\"` is to indicate our code that we will only read the content of the file.\n",
    "\n",
    "If the path of the file does not exist, python will simply return with an error.\n",
    "\n",
    "Has you can see, printing `file1` does not output the content of `file1`. Nevertheless, we can simply use the container methods to have access to each rows of the file."
   ]
  },
  {
   "cell_type": "code",
   "execution_count": 21,
   "metadata": {},
   "outputs": [
    {
     "name": "stdout",
     "output_type": "stream",
     "text": [
      "row n°1\n",
      "\n",
      "row n°2\n",
      "\n",
      "row n°3\n",
      "\n",
      "row n°4\n",
      "\n"
     ]
    }
   ],
   "source": [
    "for rows in file1:\n",
    "    print(rows)"
   ]
  },
  {
   "cell_type": "markdown",
   "metadata": {},
   "source": [
    "Then don't forget to close the file."
   ]
  },
  {
   "cell_type": "code",
   "execution_count": 22,
   "metadata": {},
   "outputs": [],
   "source": [
    "file1.close()"
   ]
  },
  {
   "cell_type": "markdown",
   "metadata": {},
   "source": [
    "In many database, many data are store in one line. To make people's life easier, the data are often separated by a special character that do not appear in the data. For example the following character are often use:\n",
    " - ;\n",
    " - ,\n",
    " - |\n",
    " - .\n",
    "\n",
    "TODO: write a code to create a list of all data from the \"ex2.txt\" file that are separated with the ';' charater. "
   ]
  },
  {
   "cell_type": "code",
   "execution_count": 27,
   "metadata": {},
   "outputs": [
    {
     "name": "stdout",
     "output_type": "stream",
     "text": [
      "[['Pierre', 'Dupont', '32', 'France', 'Paris', 'computer science'], ['Peter', 'Parker', '18', 'US', 'Brooklin', 'math'], ['Steve', 'Rogers', '145', 'US', 'Quince', 'history'], ['Paul', 'Wagner', '14', 'France', 'Lyon', 'computer science']]\n"
     ]
    }
   ],
   "source": [
    "file = open(file_folder + \"ex2.txt\", \"r\")\n",
    "\n",
    "dataset = []\n",
    "for rows in file:\n",
    "    data = rows.split(\";\") #split each data which are separated with the string \";\"\n",
    "    dataset.append(data[:-1]) #add the data list without the last element to the dataset\n",
    "\n",
    "file.close()\n",
    "print(dataset)"
   ]
  },
  {
   "cell_type": "markdown",
   "metadata": {},
   "source": [
    "# 2. Write in files"
   ]
  },
  {
   "cell_type": "markdown",
   "metadata": {},
   "source": [
    "In many situations you will want to write content in some files (to store AI models, when creating your database, etc...).\n",
    "\n",
    "TODO: Create a file name \"my_file1.txt\" and write the all the values $f(0), f(1), ..., f(1000)$, one value per lines with $f:x\\mapsto x^2$."
   ]
  },
  {
   "cell_type": "markdown",
   "metadata": {},
   "source": [
    "### Solution"
   ]
  },
  {
   "cell_type": "code",
   "execution_count": 10,
   "metadata": {},
   "outputs": [],
   "source": [
    "file2 = open(file_folder + \"my_file1.txt\", \"w\")\n",
    "# The \"w\" option means that we will write in this file\n",
    "# Note that if the file does not exist, then python will create it\n",
    "\n",
    "for i in range(1001):\n",
    "    txt = str(i**2) + '\\n'\n",
    "    file2.write(txt)\n",
    "\n",
    "file2.close()"
   ]
  },
  {
   "cell_type": "markdown",
   "metadata": {},
   "source": [
    "If you want to create a database, it need to be organise. You don't want to have a single really complexe .txt file. Instead, order database using many directory and files. Note that sometimes special character and spaces in file names can cause some issues. To avoid that, choose clear name with only basic letter (you can use upper letter) and replace spaces with either (2 conventions):\n",
    " - The '_' character: \"my file 1.txt\" $\\rightarrow$ \"my_file_1.txt\"\n",
    " - Or simply delete them and add a upper letter to next word: \"my file 1.txt\" $\\rightarrow$ \"myFile1.txt\"\n",
    "\n",
    "Remember that, if you are storing data in txt files using several lignes, to end your file with a last end of file character so that all line finished by a end of line character (see file from \"file/directories\" for some example)."
   ]
  },
  {
   "cell_type": "markdown",
   "metadata": {},
   "source": [
    "# 3. Navigate throw directories"
   ]
  },
  {
   "cell_type": "markdown",
   "metadata": {},
   "source": [
    "Has said in previous section, database have to be organise throw many directories. But then, how can we navigate throw all directories to get all the data at the same time ?\n",
    "\n",
    "To do that we will use the fonction `walk` from `os` module.\n",
    "\n",
    "TODO: use the `walk` to print all words from the directory named \"file/directories\" and their file name."
   ]
  },
  {
   "cell_type": "code",
   "execution_count": 19,
   "metadata": {},
   "outputs": [
    {
     "name": "stdout",
     "output_type": "stream",
     "text": [
      "files/directories/Sports/tested.txt :\n",
      "    Volley\n",
      "    Parkour\n",
      "    Badminton\n",
      "    Ping Pong\n",
      "    Running\n",
      "    Climbing\n",
      "files/directories/Class/physics.txt :\n",
      "    Quantum physics\n",
      "    Electromagnetism\n",
      "    Optics\n",
      "files/directories/Class/computer_science.txt :\n",
      "    Quantum Computer Science\n",
      "    Compilations and Programs Analisys\n",
      "    Programmation\n",
      "    Algorithms\n",
      "files/directories/Class/math.txt :\n",
      "    Probability\n",
      "    Algebra\n",
      "    Geometry\n",
      "files/directories/Applications/social_media.txt :\n",
      "    Facebook\n",
      "    Instagram\n",
      "    Tik Tok\n",
      "files/directories/Applications/game.txt :\n",
      "    The Battle Cat\n",
      "    Geometry Dash\n",
      "    ReFactory\n",
      "    Marvel Snap\n"
     ]
    }
   ],
   "source": [
    "import os\n",
    "\n",
    "root_directory = file_folder + \"directories/\"\n",
    "\n",
    "for root, subbdirs, files in os.walk(root_directory):\n",
    "    # walk function is recursive\n",
    "    # root is the current root\n",
    "    # subbirs are all the current subdirectories\n",
    "    # files are all the current files\n",
    "    for file_name in files:\n",
    "        file_path = root + '/' + file_name\n",
    "        print(file_path, \":\")\n",
    "        file = open(file_path, \"r\")\n",
    "        for rows in file:\n",
    "            print(\"   \", rows, end=\"\")\n",
    "        file.close()"
   ]
  }
 ],
 "metadata": {
  "kernelspec": {
   "display_name": "Python 3",
   "language": "python",
   "name": "python3"
  },
  "language_info": {
   "codemirror_mode": {
    "name": "ipython",
    "version": 3
   },
   "file_extension": ".py",
   "mimetype": "text/x-python",
   "name": "python",
   "nbconvert_exporter": "python",
   "pygments_lexer": "ipython3",
   "version": "3.10.12"
  }
 },
 "nbformat": 4,
 "nbformat_minor": 2
}

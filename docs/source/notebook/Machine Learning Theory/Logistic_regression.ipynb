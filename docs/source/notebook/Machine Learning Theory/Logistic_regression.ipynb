{
 "cells": [
  {
   "cell_type": "markdown",
   "metadata": {},
   "source": [
    "# Logistic regression model"
   ]
  },
  {
   "cell_type": "markdown",
   "metadata": {},
   "source": [
    "In this tutorial, you will learn how to use an exiting logistic regression model from sklearn and how it works.\n",
    "\n",
    "The goal of this tutorial is to train an Logistic regression model to recognize handwritten digits.\n",
    "\n",
    "![alt text](images/digit1.png \"Title\")\n",
    "\n",
    "This tutorial directly follow this Datasets/Basic Dataset/Sklearn_digits.ipynb notebook.\n",
    "\n",
    "This tutorial is largely inspired by a course from the \"Université Lyon 1\" that you can find here: https://perso.univ-lyon1.fr/marc.buffat/COURS/BOOK_OUTILSNUM_HTML/MGC2367M/cours/Chap0_Intro.html\n",
    "\n",
    "So, here is the code we will start with."
   ]
  },
  {
   "cell_type": "code",
   "execution_count": 7,
   "metadata": {},
   "outputs": [],
   "source": [
    "import numpy as np\n",
    "import sklearn as sk\n",
    "from sklearn import datasets\n",
    "import random as rd\n",
    "from sklearn.model_selection import train_test_split\n",
    "import matplotlib.pyplot as plt\n",
    "\n",
    "# Loading database\n",
    "digits = datasets.load_digits()\n",
    "\n",
    "# Splitting dataset into 2 parts: trainning and test\n",
    "random_seed = rd.randint(0,4294967295)\n",
    "trainning_size = 0.8\n",
    "res = train_test_split(digits.data, digits.target,\n",
    "                        train_size=trainning_size, test_size=1-trainning_size,\n",
    "                        random_state=random_seed)\n",
    "train_data, test_data, train_labels, test_labels = res"
   ]
  },
  {
   "cell_type": "markdown",
   "metadata": {},
   "source": [
    "# 1.Explanation of logistic regression model"
   ]
  },
  {
   "cell_type": "markdown",
   "metadata": {},
   "source": [
    "Expalnation..."
   ]
  },
  {
   "cell_type": "markdown",
   "metadata": {},
   "source": [
    "# 2.Trainning existing AI model"
   ]
  },
  {
   "cell_type": "markdown",
   "metadata": {},
   "source": [
    "The last step is to use a AI model from the sklearn wich is the logistic regression.\n",
    "\n",
    "TODO: Train a logistic regression model with the `train_data` set. Then output the score of your model on the `train_data` set and on the `test_data` set."
   ]
  },
  {
   "cell_type": "markdown",
   "metadata": {},
   "source": [
    "### Solution"
   ]
  },
  {
   "cell_type": "code",
   "execution_count": 9,
   "metadata": {},
   "outputs": [
    {
     "name": "stdout",
     "output_type": "stream",
     "text": [
      "Training score: 1.0\n",
      "Test score:     0.9666666666666667\n"
     ]
    }
   ],
   "source": [
    "# Import the logistic regression model\n",
    "from sklearn.linear_model import LogisticRegression\n",
    "\n",
    "# Create the model\n",
    "model = LogisticRegression(max_iter=200)\n",
    "# TODO: explanation abour max_iter attribute\n",
    "\n",
    "# Train the model with the train_data\n",
    "model.fit(train_data, train_labels)\n",
    "\n",
    "# Print the score\n",
    "print(\"Training score:\", model.score(train_data, train_labels))\n",
    "print(\"Test score:    \", model.score(test_data, test_labels))"
   ]
  },
  {
   "cell_type": "markdown",
   "metadata": {},
   "source": [
    "`model.score(data_set, data_label)` output the ratio of success on the `data_set` set."
   ]
  },
  {
   "cell_type": "markdown",
   "metadata": {},
   "source": [
    "# 3.Visualisation of results"
   ]
  },
  {
   "cell_type": "markdown",
   "metadata": {},
   "source": [
    "Since the model is pretty good (it does not make a lot of mistakes), we highlight only the errors of the logistic regression model on test dataset.\n",
    "\n",
    "TODO: plot the errors made by your model on the test sets using an histogram."
   ]
  },
  {
   "cell_type": "markdown",
   "metadata": {},
   "source": [
    "### Solution"
   ]
  },
  {
   "cell_type": "code",
   "execution_count": 18,
   "metadata": {},
   "outputs": [
    {
     "name": "stdout",
     "output_type": "stream",
     "text": [
      "model guess 7 but correct answer was 4\n",
      "model guess 5 but correct answer was 9\n",
      "model guess 1 but correct answer was 8\n",
      "model guess 1 but correct answer was 9\n",
      "model guess 1 but correct answer was 4\n",
      "model guess 9 but correct answer was 7\n",
      "model guess 1 but correct answer was 8\n",
      "model guess 3 but correct answer was 7\n",
      "model guess 8 but correct answer was 9\n",
      "model guess 5 but correct answer was 8\n",
      "model guess 8 but correct answer was 6\n",
      "model guess 2 but correct answer was 1\n",
      "model guess 2 but correct answer was 1\n",
      "model guess 4 but correct answer was 5\n",
      "model guess 8 but correct answer was 1\n"
     ]
    },
    {
     "data": {
      "image/png": "[encoded data removed]",
      "text/plain": [
       "<Figure size 640x480 with 1 Axes>"
      ]
     },
     "metadata": {},
     "output_type": "display_data"
    }
   ],
   "source": [
    "errors = []\n",
    "for i in range(len(test_data)):\n",
    "    result = model.predict([test_data[i]])[0]\n",
    "    if result != test_labels[i]:\n",
    "        errors.append(test_labels[i])\n",
    "        print(\"model guess\", result, \"but correct answer was\", test_labels[i])\n",
    "\n",
    "arr = np.array(errors)-0.25 # applying -0.25 to each errors so that the histogram his align with the integer\n",
    "plt.hist(arr, color='orange', edgecolor='black') # Create histogram bars\n",
    "plt.xticks(range(10)) # ploting every interger in x axis\n",
    "plt.xlabel(\"digits\")\n",
    "plt.ylabel(\"number of errors\")\n",
    "plt.show()"
   ]
  }
 ],
 "metadata": {
  "kernelspec": {
   "display_name": "Python 3",
   "language": "python",
   "name": "python3"
  },
  "language_info": {
   "codemirror_mode": {
    "name": "ipython",
    "version": 3
   },
   "file_extension": ".py",
   "mimetype": "text/x-python",
   "name": "python",
   "nbconvert_exporter": "python",
   "pygments_lexer": "ipython3",
   "version": "3.10.12"
  }
 },
 "nbformat": 4,
 "nbformat_minor": 2
}

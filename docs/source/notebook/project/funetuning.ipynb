{
 "cells": [
  {
   "cell_type": "markdown",
   "metadata": {},
   "source": [
    "# Introduction\n",
    "\n",
    "The goal of this notebook is to provide an example of how to fine-tune a pre-trained encoder-decoder model for a specific task. Specifically, we build a vision encoder-decoder from the pre-trained vision encoder [Swin Transformer](https://huggingface.co/microsoft/swin-base-patch4-window7-224-in22k) and the pre-trained decoder [GPT-2](https://huggingface.co/gpt2) in order to generate the LaTeX code corresponding to the image of a mathematical formula. To do this, we make use of the Transformers, Datasets, and Trainer environment provided by Hugging Face, which offers a high-level overview of the fine-tuning process while providing great flexibility for fine-tuning."
   ]
  },
  {
   "cell_type": "markdown",
   "metadata": {},
   "source": [
    "# Set up the environment\n",
    "\n",
    "We conducted our experiments in the following environment: \n",
    "\n",
    "- **Python** 3.12.7  \n",
    "- **matplotlib** 3.9.2  \n",
    "- **torch** 2.5.1  \n",
    "- **numpy** 1.26.4  \n",
    "- **Pillow** 10.4.0  \n",
    "- **transformers** 4.48.0  \n",
    "- **datasets** 3.2.0  \n",
    "- **evaluate** 0.4.3  "
   ]
  },
  {
   "cell_type": "code",
   "execution_count": 1,
   "metadata": {},
   "outputs": [],
   "source": [
    "# Import the necessary libraries\n",
    "import matplotlib.pyplot as plt\n",
    "%matplotlib inline\n",
    "from transformers import (AutoProcessor, \n",
    "                          VisionEncoderDecoderModel, \n",
    "                          AutoTokenizer, \n",
    "                          GenerationConfig  ,\n",
    "                          Seq2SeqTrainingArguments,\n",
    "                          Seq2SeqTrainer,\n",
    "                          EarlyStoppingCallback,\n",
    "                          logging)\n",
    "from datasets import load_dataset, DownloadMode\n",
    "import datasets\n",
    "import torch\n",
    "import numpy as np\n",
    "import evaluate\n",
    "from PIL import Image\n",
    "import time\n",
    "import os\n",
    "logging.get_logger(\"transformers\").setLevel(logging.ERROR)"
   ]
  },
  {
   "cell_type": "code",
   "execution_count": 2,
   "metadata": {},
   "outputs": [],
   "source": [
    "# Allow parallel tokenization\n",
    "os.environ[\"TOKENIZERS_PARALLELISM\"] = \"true\"\n",
    "\n",
    "if torch.cuda.is_available():\n",
    "    device = torch.device(\"cuda\")\n",
    "elif torch.backends.mps.is_available():\n",
    "    device = torch.device(\"mps\")\n",
    "else:\n",
    "    device = torch.device(\"cpu\")\n",
    "\n",
    "def set_seed(seed):\n",
    "    np.random.seed(seed)\n",
    "    torch.manual_seed(seed)\n",
    "    if torch.cuda.is_available():\n",
    "        torch.cuda.manual_seed_all(seed)\n",
    "# Set a seed for reproducibility\n",
    "SEED = 78\n",
    "set_seed(SEED)"
   ]
  },
  {
   "cell_type": "markdown",
   "metadata": {},
   "source": [
    "# Set up the model\n",
    "\n",
    "The model architecture and parameters are derived from the research paper [Image-to-LaTeX Converter for Mathematical Formulas and Text](https://arxiv.org/abs/2408.04015)."
   ]
  },
  {
   "cell_type": "code",
   "execution_count": 3,
   "metadata": {},
   "outputs": [
    {
     "data": {
      "text/plain": [
       "Embedding(50257, 768)"
      ]
     },
     "execution_count": 3,
     "metadata": {},
     "output_type": "execute_result"
    }
   ],
   "source": [
    "encoder_name = \"microsoft/swin-base-patch4-window7-224-in22k\"\n",
    "decoder_name = \"gpt2\"\n",
    "\n",
    "# The VisionEncoderDecoderModel library constructs the model for us using a decoder and an encoder\n",
    "model = VisionEncoderDecoderModel.from_encoder_decoder_pretrained(encoder_name, decoder_name).to(device)\n",
    "processor = AutoProcessor.from_pretrained(encoder_name,use_fast=True) \n",
    "tokenizer = AutoTokenizer.from_pretrained(decoder_name,use_fast=True)\n",
    "tokenizer.pad_token = tokenizer.eos_token\n",
    "\n",
    "model.config.decoder_start_token_id = tokenizer.bos_token_id\n",
    "model.config.pad_token_id = tokenizer.pad_token_id\n",
    "model.config.eos_token_id = tokenizer.eos_token_id\n",
    "\n",
    "# Set generation configuration\n",
    "generation_config = GenerationConfig(\n",
    "    max_length=256,\n",
    "    early_stopping=True,\n",
    "    num_beams=4,\n",
    "    length_penalty=2.0,\n",
    "    no_repeat_ngram_size=3,\n",
    "    decoder_start_token_id = tokenizer.bos_token_id\n",
    ")\n",
    "model.generation_config = generation_config\n",
    "model.decoder.resize_token_embeddings(len(tokenizer))"
   ]
  },
  {
   "cell_type": "markdown",
   "metadata": {},
   "source": [
    "# Load and preprocess the dataset"
   ]
  },
  {
   "cell_type": "code",
   "execution_count": 4,
   "metadata": {},
   "outputs": [
    {
     "data": {
      "application/vnd.jupyter.widget-view+json": {
       "model_id": "f2b8266f3802461da7e38865888d5d9d",
       "version_major": 2,
       "version_minor": 0
      },
      "text/plain": [
       "Generating train split:   0%|          | 0/76318 [00:00<?, ? examples/s]"
      ]
     },
     "metadata": {},
     "output_type": "display_data"
    },
    {
     "data": {
      "application/vnd.jupyter.widget-view+json": {
       "model_id": "55b991cd84fd47c782b833c7c27a209c",
       "version_major": 2,
       "version_minor": 0
      },
      "text/plain": [
       "Generating train split:   0%|          | 0/165099 [00:00<?, ? examples/s]"
      ]
     },
     "metadata": {},
     "output_type": "display_data"
    },
    {
     "data": {
      "application/vnd.jupyter.widget-view+json": {
       "model_id": "baec88115dce4dd2a59da3f6cc19f8ba",
       "version_major": 2,
       "version_minor": 0
      },
      "text/plain": [
       "Generating test split:   0%|          | 0/20430 [00:00<?, ? examples/s]"
      ]
     },
     "metadata": {},
     "output_type": "display_data"
    },
    {
     "data": {
      "application/vnd.jupyter.widget-view+json": {
       "model_id": "b1ca0abcbfac4b9fb3e0dc84bd4b97d0",
       "version_major": 2,
       "version_minor": 0
      },
      "text/plain": [
       "Generating val split:   0%|          | 0/18216 [00:00<?, ? examples/s]"
      ]
     },
     "metadata": {},
     "output_type": "display_data"
    },
    {
     "data": {
      "application/vnd.jupyter.widget-view+json": {
       "model_id": "e98e7fb0202349e0a57569ce5ecc0d54",
       "version_major": 2,
       "version_minor": 0
      },
      "text/plain": [
       "Map:   0%|          | 0/40 [00:00<?, ? examples/s]"
      ]
     },
     "metadata": {},
     "output_type": "display_data"
    }
   ],
   "source": [
    "# We load two datasets avaible in the Hugging Face library\n",
    "dataset_lynx = load_dataset(\"linxy/LaTeX_OCR\",download_mode=DownloadMode.REUSE_CACHE_IF_EXISTS)\n",
    "dataset_100k = load_dataset(\"yuntian-deng/im2latex-100k-raw\",download_mode=DownloadMode.REUSE_CACHE_IF_EXISTS)\n",
    "\n",
    "# K limits the number of examples to used to speed up the training\n",
    "K = 10\n",
    "if (K!=0):\n",
    "    dataset_lynx[\"train\"] = dataset_lynx[\"train\"].select(range(K))\n",
    "    dataset_100k[\"train\"] = dataset_100k[\"train\"].select(range(K))\n",
    "    dataset_100k[\"test\"] = dataset_100k[\"test\"].select(range(K))\n",
    "    dataset_100k[\"val\"] = dataset_100k[\"val\"].select(range(K))\n",
    "\n",
    "# We concatenate the datasets\n",
    "dataset_merged = datasets.concatenate_datasets([dataset_lynx[\"train\"] , dataset_100k[\"train\"] , dataset_100k[\"test\"],dataset_100k[\"val\"]  ])\n",
    "\n",
    "# We define a function to preprocess the data and format it in the way the training loop expects\n",
    "def format_data(observation):\n",
    "    if (observation[\"preprocessing\"] == None):\n",
    "        observation[\"pixel_values\"] = processor( observation[\"image\"], return_tensors=\"pt\").pixel_values\n",
    "        observation[\"labels\"] = tokenizer.encode(observation[\"text\"],padding=\"max_length\",max_length=model.generation_config.max_length,truncation=True)\n",
    "    else:\n",
    "        observation[\"pixel_values\"] = processor( observation[\"image\"], return_tensors=\"pt\").pixel_values\n",
    "        observation[\"labels\"] = tokenizer.encode(observation[\"formula\"],padding=\"max_length\",max_length=model.generation_config.max_length,truncation=True)\n",
    "    return observation\n",
    "\n",
    "# We preprocess the data and split it in train, test and validation sets\n",
    "dataset_merged = dataset_merged.map(format_data)\n",
    "dataset_merged = dataset_merged.shuffle(seed=SEED)\n",
    "dataset_merged = dataset_merged.train_test_split(test_size=0.1)\n",
    "dataset_val_test = dataset_merged[\"test\"].train_test_split(test_size=0.5)\n",
    "dataset_train = dataset_merged[\"train\"]\n",
    "dataset_test = dataset_val_test[\"train\"]\n",
    "dataset_val = dataset_val_test[\"test\"]"
   ]
  },
  {
   "cell_type": "markdown",
   "metadata": {},
   "source": [
    "# Set up the training environment"
   ]
  },
  {
   "cell_type": "code",
   "execution_count": 5,
   "metadata": {},
   "outputs": [],
   "source": [
    "# we define a datacollator to format the data in the way the training loop expects it\n",
    "def custom_collate_fn(batch):\n",
    "    \"\"\"\n",
    "    We store the batch in a tensor of shape (batch_size,3,224,224)\n",
    "    - 3 is the number of channels: red, green and blue\n",
    "    - 224 is the width and height of the image\n",
    "    \"\"\"\n",
    "    pixel_values = torch.stack([torch.as_tensor(example[\"pixel_values\"],device=device).squeeze(0) for example in batch])\n",
    "    padded_labels = torch.as_tensor( [ example[\"labels\"] for example in batch ] ,device=device)\n",
    "    return {\"pixel_values\": pixel_values, \"labels\": padded_labels}\n",
    "\n",
    "# We define a fonction to compute a metric in order to evaluate the model\n",
    "bleu_metric = evaluate.load(\"bleu\")\n",
    "def compute_metrics(eval_preds):\n",
    "    predictions, labels = eval_preds\n",
    "    # Decode the predictions and labels: we convert tokens into human readable text\n",
    "    decoded_preds = tokenizer.batch_decode(predictions, skip_special_tokens=True)\n",
    "    decoded_labels = tokenizer.batch_decode(labels, skip_special_tokens=True)\n",
    "    # Compute the BLEU score\n",
    "    results = bleu_metric.compute(predictions=decoded_preds, references=[[lbl] for lbl in decoded_labels])\n",
    "    return {\"bleu\": results[\"bleu\"]}"
   ]
  },
  {
   "cell_type": "code",
   "execution_count": 6,
   "metadata": {},
   "outputs": [],
   "source": [
    "training_args = Seq2SeqTrainingArguments(\n",
    "    # Output\n",
    "    output_dir=\"trained vision encoder decoder\",\n",
    "\n",
    "    # Generation\n",
    "    generation_num_beams=model.generation_config.num_beams,\n",
    "    generation_max_length=model.generation_config.max_length,\n",
    "    predict_with_generate=True,\n",
    "\n",
    "    # parallelisation\n",
    "    per_device_train_batch_size=16,\n",
    "    learning_rate=5e-5,\n",
    "    fp16=True if device.type == \"cuda\" else False,\n",
    "\n",
    "    # Optimisation parameters\n",
    "    num_train_epochs=5,\n",
    "    dataloader_pin_memory=False,\n",
    "    warmup_steps=500,\n",
    "    weight_decay=0.01,\n",
    "\n",
    "    # Saving, logging and evaluation\n",
    "    save_strategy=\"epoch\",\n",
    "    save_total_limit=3,\n",
    "    eval_strategy=\"epoch\",\n",
    "    logging_strategy=\"steps\",\n",
    "    logging_steps=1000,\n",
    "\n",
    "    # Early stopping\n",
    "    load_best_model_at_end=True, \n",
    "    metric_for_best_model=\"bleu\",\n",
    "    greater_is_better=True,\n",
    "\n",
    "    # Reproductibility\n",
    "    seed=SEED,\n",
    ") \n",
    "\n",
    "trainer = Seq2SeqTrainer(\n",
    "    model=model,\n",
    "    args=training_args,\n",
    "    train_dataset=dataset_train,\n",
    "    eval_dataset=dataset_val,\n",
    "    data_collator=custom_collate_fn,\n",
    "    callbacks=[EarlyStoppingCallback()],\n",
    "    compute_metrics=compute_metrics,\n",
    "    processing_class=processor\n",
    ")"
   ]
  },
  {
   "cell_type": "markdown",
   "metadata": {},
   "source": [
    "# Train and evaluate the model"
   ]
  },
  {
   "cell_type": "code",
   "execution_count": null,
   "metadata": {},
   "outputs": [],
   "source": [
    "trainer.train()\n",
    "trainer.eval_dataset = dataset_test\n",
    "print(trainer.evaluate())"
   ]
  },
  {
   "cell_type": "code",
   "execution_count": 8,
   "metadata": {},
   "outputs": [],
   "source": [
    "def show_data(sample):\n",
    "    \"\"\"\n",
    "    Display the image and the expected text of any sample of the train, test or validation dataset\n",
    "    \"\"\"\n",
    "    generated_text = tokenizer.decode(sample[\"labels\"],skip_special_tokens=True)\n",
    "    plt.imshow(sample[\"image\"])\n",
    "    plt.show()\n",
    "    print(\"generated text: \",generated_text)\n",
    "\n",
    "\n",
    "def inference_path(image_path):\n",
    "    image = Image.open(image_path).convert(\"RGB\")\n",
    "    plt.imshow(image)\n",
    "    plt.show()\n",
    "    pixel_values = processor(image,return_tensors=\"pt\").pixel_values\n",
    "    generated_ids = model.generate(pixel_values,early_stopping=True)\n",
    "    generated_text = tokenizer.decode(generated_ids[0],skip_special_tokens=True)\n",
    "    print(\"generated text: \",generated_text)\n",
    "\n",
    "def inference_dataset(sample):\n",
    "    image = sample[\"image\"]\n",
    "    pixel_values = processor(image,return_tensors=\"pt\").pixel_values.to(device)\n",
    "    with torch.inference_mode():\n",
    "        generated_ids = model.generate(pixel_values,early_stopping=True)\n",
    "    generated_text = tokenizer.decode(generated_ids[0],skip_special_tokens=True)\n",
    "    print(\"generated text: \",generated_text)"
   ]
  },
  {
   "cell_type": "code",
   "execution_count": 10,
   "metadata": {},
   "outputs": [
    {
     "data": {
      "image/png": "[encoded data removed]",
      "text/plain": [
       "<Figure size 640x480 with 1 Axes>"
      ]
     },
     "metadata": {},
     "output_type": "display_data"
    },
    {
     "name": "stdout",
     "output_type": "stream",
     "text": [
      "generated text:  b ( k ) = \\mu ( \\frac { 2 } { 1 + k ^ { 2 } } ) ^ { \\frac { 1 } { 2 } } , \\beta ( k ) = \\frac { \\mu } { a } s _ { + } ( k ) ,\n",
      "generated text:  In this article\n",
      "\n",
      "\n",
      "This article is a stub. You can help the wiki by expanding it.\n",
      "\n",
      "The following is a list of the most important things to do in the game. It is not a complete list of all the things you should be doing in order from most important to least important to most important, but it is a general list of things that should be done in order of most importance to least most important. The list is not exhaustive, but should be taken with a grain of salt.\n",
      "\n",
      "\n",
      "Contents show]\n",
      "\n",
      "General\n",
      "\n",
      "You should be able to do the following things in order:\n",
      "\n",
      "1. Make sure that you have a good idea of what you want to do\n",
      "\n",
      "2. Make a plan of how to do it\n",
      "\n",
      "3. Make it clear that you are not going to do anything\n",
      "\n",
      "4. Make the plan clear that your plan is to do something\n",
      "\n",
      "5. Make your plan clear\n",
      "\n",
      "6. Don't be afraid to do things that you don't want to\n",
      "\n",
      "7. Be sure to have a plan\n",
      "\n",
      "8. Be aware that you will be doing things that are not important to you\n",
      "\n",
      "9. Make clear that it is not important\n",
      "\n",
      "10. Be clear\n"
     ]
    }
   ],
   "source": [
    "# Perform inference\n",
    "show_data(dataset_test[1])\n",
    "inference_dataset(dataset_test[1])"
   ]
  },
  {
   "cell_type": "markdown",
   "metadata": {},
   "source": [
    "# Results and Conclusion\n",
    "\n",
    "We trained the model on the entire dataset for 3 epochs and obtained a BLEU score of 0.23 on the test set. The experiment was conducted on the high-performance computing platform Grid5000 using four Tesla V100 GPUs to accelerate computation and ensure reproducibility.\n",
    "\n",
    "More specifically, after testing the model on several samples from the test dataset, we observed that it generates LaTeX code that is extremely close to the correct version, although it occasionally makes small mistakes. The main issue is that towards the end of the generation, the model tends to diverge and produce unrelated code. However, this could be partially corrected with some post-processing.\n",
    "\n",
    "To further improve the results, future work could include using more data, possibly through data augmentation, and experimenting with different optimizers, such as the promising LoRA optimizer. Additionally, a model with higher parameter precision could enhance performance. We could also fine-tune the generation parameters to mitigate divergence issues—perhaps increasing the length penalty could help."
   ]
  },
  {
   "cell_type": "markdown",
   "metadata": {},
   "source": [
    "# References\n",
    "\n",
    "- Image-to-LaTeX Converter for Mathematical Formulas and Text: https://arxiv.org/abs/2408.04015\n",
    "- Hugginface Vision Encoder deocder models: https://huggingface.co/docs/transformers/en/model_doc/vision-encoder-decoder\n",
    "- Hugginface Trainer: https://huggingface.co/docs/transformers/en/main_classes/trainer\n",
    "- Hugginface Transformers: https://huggingface.co/docs/transformers/en/index"
   ]
  }
 ],
 "metadata": {
  "kernelspec": {
   "display_name": "base",
   "language": "python",
   "name": "python3"
  },
  "language_info": {
   "codemirror_mode": {
    "name": "ipython",
    "version": 3
   },
   "file_extension": ".py",
   "mimetype": "text/x-python",
   "name": "python",
   "nbconvert_exporter": "python",
   "pygments_lexer": "ipython3",
   "version": "3.12.7"
  }
 },
 "nbformat": 4,
 "nbformat_minor": 2
}

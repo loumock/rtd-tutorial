{
 "cells": [
  {
   "cell_type": "markdown",
   "metadata": {},
   "source": [
    "# Introduction\n",
    "\n",
    "The goal of this notebook is to provide an example of how to fine-tune a pre-trained encoder-decoder model for a specific task. Specifically, we build a pre-trained encoder-decoder from the pre-trained vision encoder [Swin Transformer](https://huggingface.co/microsoft/swin-base-patch4-window7-224-in22k) and the pre-trained decoder [GPT-2](https://huggingface.co/openai-community/gpt2) in order to generate the LaTeX code corresponding to the image of a mathematical formula. To do this, we make use of the Transformers, Datasets, and Trainer environment provided by Hugging Face, which offers a high-level overview of the fine-tuning process while providing great flexibility for fine-tuning."
   ]
  },
  {
   "cell_type": "markdown",
   "metadata": {},
   "source": [
    "# Set up the environment"
   ]
  },
  {
   "cell_type": "markdown",
   "metadata": {},
   "source": [
    "\n",
    "We ran our experiments under the following environment:  \n",
    "\n",
    "- **Python** 3.12.7  \n",
    "- **matplotlib** 3.9.2  \n",
    "- **torch** 2.5.1  \n",
    "- **numpy** 1.26.4  \n",
    "- **Pillow** 10.4.0  \n",
    "- **transformers** 4.48.0  \n",
    "- **datasets** 3.2.0  \n",
    "- **evaluate** 0.4.3  "
   ]
  },
  {
   "cell_type": "code",
   "execution_count": 23,
   "metadata": {},
   "outputs": [],
   "source": [
    "# Import the necessary libraries\n",
    "import matplotlib.pyplot as plt\n",
    "%matplotlib inline\n",
    "from transformers import (AutoProcessor, \n",
    "                          VisionEncoderDecoderModel, \n",
    "                          AutoTokenizer, \n",
    "                          GenerationConfig  ,\n",
    "                          Seq2SeqTrainingArguments,\n",
    "                          Seq2SeqTrainer,\n",
    "                          EarlyStoppingCallback,)\n",
    "from datasets import load_dataset, DownloadMode\n",
    "import datasets\n",
    "import torch\n",
    "import numpy as np\n",
    "import evaluate\n",
    "from PIL import Image\n",
    "import time\n",
    "import os"
   ]
  },
  {
   "cell_type": "code",
   "execution_count": 24,
   "metadata": {},
   "outputs": [],
   "source": [
    "# Allow parallel tokenization\n",
    "os.environ[\"TOKENIZERS_PARALLELISM\"] = \"true\"\n",
    "\n",
    "if torch.cuda.is_available():\n",
    "    device = torch.device(\"cuda\")\n",
    "elif torch.backends.mps.is_available():\n",
    "    device = torch.device(\"mps\")\n",
    "else:\n",
    "    device = torch.device(\"cpu\")\n",
    "\n",
    "def set_seed(seed):\n",
    "    np.random.seed(seed)\n",
    "    torch.manual_seed(seed)\n",
    "    if torch.cuda.is_available():\n",
    "        torch.cuda.manual_seed_all(seed)\n",
    "# Set a seed for reproducibility\n",
    "SEED = 78\n",
    "set_seed(SEED)"
   ]
  },
  {
   "cell_type": "markdown",
   "metadata": {},
   "source": [
    "# Set up the model\n",
    "\n",
    "The model architecture and parameters are taken from the paper [Image-to-LaTeX Converter for Mathematical Formulas and Text](https://arxiv.org/abs/2408.04015)."
   ]
  },
  {
   "cell_type": "markdown",
   "metadata": {},
   "source": []
  },
  {
   "cell_type": "markdown",
   "metadata": {},
   "source": []
  },
  {
   "cell_type": "code",
   "execution_count": 25,
   "metadata": {},
   "outputs": [
    {
     "name": "stderr",
     "output_type": "stream",
     "text": [
      "Some weights of GPT2LMHeadModel were not initialized from the model checkpoint at gpt2 and are newly initialized: ['h.0.crossattention.c_attn.bias', 'h.0.crossattention.c_attn.weight', 'h.0.crossattention.c_proj.bias', 'h.0.crossattention.c_proj.weight', 'h.0.crossattention.q_attn.bias', 'h.0.crossattention.q_attn.weight', 'h.0.ln_cross_attn.bias', 'h.0.ln_cross_attn.weight', 'h.1.crossattention.c_attn.bias', 'h.1.crossattention.c_attn.weight', 'h.1.crossattention.c_proj.bias', 'h.1.crossattention.c_proj.weight', 'h.1.crossattention.q_attn.bias', 'h.1.crossattention.q_attn.weight', 'h.1.ln_cross_attn.bias', 'h.1.ln_cross_attn.weight', 'h.10.crossattention.c_attn.bias', 'h.10.crossattention.c_attn.weight', 'h.10.crossattention.c_proj.bias', 'h.10.crossattention.c_proj.weight', 'h.10.crossattention.q_attn.bias', 'h.10.crossattention.q_attn.weight', 'h.10.ln_cross_attn.bias', 'h.10.ln_cross_attn.weight', 'h.11.crossattention.c_attn.bias', 'h.11.crossattention.c_attn.weight', 'h.11.crossattention.c_proj.bias', 'h.11.crossattention.c_proj.weight', 'h.11.crossattention.q_attn.bias', 'h.11.crossattention.q_attn.weight', 'h.11.ln_cross_attn.bias', 'h.11.ln_cross_attn.weight', 'h.2.crossattention.c_attn.bias', 'h.2.crossattention.c_attn.weight', 'h.2.crossattention.c_proj.bias', 'h.2.crossattention.c_proj.weight', 'h.2.crossattention.q_attn.bias', 'h.2.crossattention.q_attn.weight', 'h.2.ln_cross_attn.bias', 'h.2.ln_cross_attn.weight', 'h.3.crossattention.c_attn.bias', 'h.3.crossattention.c_attn.weight', 'h.3.crossattention.c_proj.bias', 'h.3.crossattention.c_proj.weight', 'h.3.crossattention.q_attn.bias', 'h.3.crossattention.q_attn.weight', 'h.3.ln_cross_attn.bias', 'h.3.ln_cross_attn.weight', 'h.4.crossattention.c_attn.bias', 'h.4.crossattention.c_attn.weight', 'h.4.crossattention.c_proj.bias', 'h.4.crossattention.c_proj.weight', 'h.4.crossattention.q_attn.bias', 'h.4.crossattention.q_attn.weight', 'h.4.ln_cross_attn.bias', 'h.4.ln_cross_attn.weight', 'h.5.crossattention.c_attn.bias', 'h.5.crossattention.c_attn.weight', 'h.5.crossattention.c_proj.bias', 'h.5.crossattention.c_proj.weight', 'h.5.crossattention.q_attn.bias', 'h.5.crossattention.q_attn.weight', 'h.5.ln_cross_attn.bias', 'h.5.ln_cross_attn.weight', 'h.6.crossattention.c_attn.bias', 'h.6.crossattention.c_attn.weight', 'h.6.crossattention.c_proj.bias', 'h.6.crossattention.c_proj.weight', 'h.6.crossattention.q_attn.bias', 'h.6.crossattention.q_attn.weight', 'h.6.ln_cross_attn.bias', 'h.6.ln_cross_attn.weight', 'h.7.crossattention.c_attn.bias', 'h.7.crossattention.c_attn.weight', 'h.7.crossattention.c_proj.bias', 'h.7.crossattention.c_proj.weight', 'h.7.crossattention.q_attn.bias', 'h.7.crossattention.q_attn.weight', 'h.7.ln_cross_attn.bias', 'h.7.ln_cross_attn.weight', 'h.8.crossattention.c_attn.bias', 'h.8.crossattention.c_attn.weight', 'h.8.crossattention.c_proj.bias', 'h.8.crossattention.c_proj.weight', 'h.8.crossattention.q_attn.bias', 'h.8.crossattention.q_attn.weight', 'h.8.ln_cross_attn.bias', 'h.8.ln_cross_attn.weight', 'h.9.crossattention.c_attn.bias', 'h.9.crossattention.c_attn.weight', 'h.9.crossattention.c_proj.bias', 'h.9.crossattention.c_proj.weight', 'h.9.crossattention.q_attn.bias', 'h.9.crossattention.q_attn.weight', 'h.9.ln_cross_attn.bias', 'h.9.ln_cross_attn.weight']\n",
      "You should probably TRAIN this model on a down-stream task to be able to use it for predictions and inference.\n"
     ]
    },
    {
     "data": {
      "text/plain": [
       "Embedding(50257, 768)"
      ]
     },
     "execution_count": 25,
     "metadata": {},
     "output_type": "execute_result"
    }
   ],
   "source": [
    "encoder_name = \"microsoft/swin-base-patch4-window7-224-in22k\"\n",
    "decoder_name = \"gpt2\"\n",
    "\n",
    "# The VisionEncoderDecoderModel library constructs the model for us using a decoder and an encoder\n",
    "model = VisionEncoderDecoderModel.from_encoder_decoder_pretrained(encoder_name, decoder_name).to(device)\n",
    "processor = AutoProcessor.from_pretrained(encoder_name,use_fast=True) \n",
    "tokenizer = AutoTokenizer.from_pretrained(decoder_name,use_fast=True)\n",
    "tokenizer.pad_token = tokenizer.eos_token\n",
    "\n",
    "model.config.decoder_start_token_id = tokenizer.bos_token_id\n",
    "model.config.pad_token_id = tokenizer.pad_token_id\n",
    "model.config.eos_token_id = tokenizer.eos_token_id\n",
    "\n",
    "# Set generation configuration\n",
    "generation_config = GenerationConfig(\n",
    "    max_length=256,\n",
    "    early_stopping=True,\n",
    "    num_beams=4,\n",
    "    length_penalty=2.0,\n",
    "    no_repeat_ngram_size=3,\n",
    "    decoder_start_token_id = tokenizer.bos_token_id\n",
    ")\n",
    "model.generation_config = generation_config\n",
    "model.decoder.resize_token_embeddings(len(tokenizer))"
   ]
  },
  {
   "cell_type": "markdown",
   "metadata": {},
   "source": [
    "# Load and preprocess the dataset"
   ]
  },
  {
   "cell_type": "code",
   "execution_count": 22,
   "metadata": {},
   "outputs": [
    {
     "data": {
      "application/vnd.jupyter.widget-view+json": {
       "model_id": "39c253c205ca410a9a10748f5a56b105",
       "version_major": 2,
       "version_minor": 0
      },
      "text/plain": [
       "Generating train split:   0%|          | 0/76318 [00:00<?, ? examples/s]"
      ]
     },
     "metadata": {},
     "output_type": "display_data"
    },
    {
     "data": {
      "application/vnd.jupyter.widget-view+json": {
       "model_id": "3cffc08d83ed44bc91558cd7af6bbe3d",
       "version_major": 2,
       "version_minor": 0
      },
      "text/plain": [
       "Generating train split:   0%|          | 0/165099 [00:00<?, ? examples/s]"
      ]
     },
     "metadata": {},
     "output_type": "display_data"
    },
    {
     "data": {
      "application/vnd.jupyter.widget-view+json": {
       "model_id": "5d34efacf5d44eb7aa3ea4aecc93dbea",
       "version_major": 2,
       "version_minor": 0
      },
      "text/plain": [
       "Generating test split:   0%|          | 0/20430 [00:00<?, ? examples/s]"
      ]
     },
     "metadata": {},
     "output_type": "display_data"
    },
    {
     "data": {
      "application/vnd.jupyter.widget-view+json": {
       "model_id": "8d9441091502492daa0021db6e552653",
       "version_major": 2,
       "version_minor": 0
      },
      "text/plain": [
       "Generating val split:   0%|          | 0/18216 [00:00<?, ? examples/s]"
      ]
     },
     "metadata": {},
     "output_type": "display_data"
    },
    {
     "data": {
      "application/vnd.jupyter.widget-view+json": {
       "model_id": "a7f8f8ddba184c6797b14b843bd94727",
       "version_major": 2,
       "version_minor": 0
      },
      "text/plain": [
       "Map:   0%|          | 0/40 [00:00<?, ? examples/s]"
      ]
     },
     "metadata": {},
     "output_type": "display_data"
    }
   ],
   "source": [
    "# We load two datasets avaible in the Hugging Face library\n",
    "dataset_lynx = load_dataset(\"linxy/LaTeX_OCR\",download_mode=DownloadMode.REUSE_CACHE_IF_EXISTS)\n",
    "dataset_100k = load_dataset(\"yuntian-deng/im2latex-100k-raw\",download_mode=DownloadMode.REUSE_CACHE_IF_EXISTS)\n",
    "\n",
    "# K limits the number of examples to used to speed up the training\n",
    "K = 10\n",
    "if (K!=0):\n",
    "    dataset_lynx[\"train\"] = dataset_lynx[\"train\"].select(range(K))\n",
    "    dataset_100k[\"train\"] = dataset_100k[\"train\"].select(range(K))\n",
    "    dataset_100k[\"test\"] = dataset_100k[\"test\"].select(range(K))\n",
    "    dataset_100k[\"val\"] = dataset_100k[\"val\"].select(range(K))\n",
    "\n",
    "# We concatenate the datasets\n",
    "dataset_merged = datasets.concatenate_datasets([dataset_lynx[\"train\"] , dataset_100k[\"train\"] , dataset_100k[\"test\"],dataset_100k[\"val\"]  ])\n",
    "\n",
    "# We define a function to preprocess the data and format it in the way the training loop expects\n",
    "def format_data(observation):\n",
    "    if (observation[\"preprocessing\"] == None):\n",
    "        observation[\"pixel_values\"] = processor( observation[\"image\"], return_tensors=\"pt\").pixel_values\n",
    "        observation[\"labels\"] = tokenizer.encode(observation[\"text\"],padding=\"max_length\",max_length=model.generation_config.max_length,truncation=True)\n",
    "    else:\n",
    "        observation[\"pixel_values\"] = processor( observation[\"image\"], return_tensors=\"pt\").pixel_values\n",
    "        observation[\"labels\"] = tokenizer.encode(observation[\"formula\"],padding=\"max_length\",max_length=model.generation_config.max_length,truncation=True)\n",
    "    return observation\n",
    "\n",
    "# We preprocess the data and split it in train, test and validation sets\n",
    "dataset_merged = dataset_merged.map(format_data)\n",
    "dataset_merged = dataset_merged.shuffle(seed=SEED)\n",
    "dataset_merged = dataset_merged.train_test_split(test_size=0.1)\n",
    "dataset_val_test = dataset_merged[\"test\"].train_test_split(test_size=0.5)\n",
    "dataset_train = dataset_merged[\"train\"]\n",
    "dataset_test = dataset_val_test[\"train\"]\n",
    "dataset_val = dataset_val_test[\"test\"]"
   ]
  },
  {
   "cell_type": "markdown",
   "metadata": {},
   "source": [
    "# Set up the training environment"
   ]
  },
  {
   "cell_type": "code",
   "execution_count": 11,
   "metadata": {},
   "outputs": [],
   "source": [
    "# we define a datacollator to format the data in the way the training loop expects it\n",
    "def custom_collate_fn(batch):\n",
    "    \"\"\"\n",
    "    We store the batch in a tensor of shape (batch_size,3,224,224)\n",
    "    - 3 is the number of channels: red, green and blue\n",
    "    - 224 is the width and height of the image\n",
    "    \"\"\"\n",
    "    pixel_values = torch.stack([torch.as_tensor(example[\"pixel_values\"],device=device).squeeze(0) for example in batch])\n",
    "    padded_labels = torch.as_tensor( [ example[\"labels\"] for example in batch ] ,device=device)\n",
    "    return {\"pixel_values\": pixel_values, \"labels\": padded_labels}\n",
    "\n",
    "# We define a fonction to compute a metric in order to evaluate the model\n",
    "bleu_metric = evaluate.load(\"bleu\")\n",
    "def compute_metrics(eval_preds):\n",
    "    predictions, labels = eval_preds\n",
    "    # Decode the predictions and labels: we convert tokens into human readable text\n",
    "    decoded_preds = tokenizer.batch_decode(predictions, skip_special_tokens=True)\n",
    "    decoded_labels = tokenizer.batch_decode(labels, skip_special_tokens=True)\n",
    "    # Compute the BLEU score\n",
    "    results = bleu_metric.compute(predictions=decoded_preds, references=[[lbl] for lbl in decoded_labels])\n",
    "    return {\"bleu\": results[\"bleu\"]}"
   ]
  },
  {
   "cell_type": "code",
   "execution_count": null,
   "metadata": {},
   "outputs": [],
   "source": [
    "training_args = Seq2SeqTrainingArguments(\n",
    "    # Output\n",
    "    output_dir=\"trained vision encoder decoder\",\n",
    "\n",
    "    # Generation\n",
    "    generation_num_beams=model.generation_config.num_beams,\n",
    "    generation_max_length=model.generation_config.max_length,\n",
    "    predict_with_generate=True,\n",
    "\n",
    "    # parallelisation\n",
    "    per_device_train_batch_size=16,\n",
    "    learning_rate=5e-5,\n",
    "    fp16=True if device.type == \"cuda\" else False,\n",
    "\n",
    "    # Optimisation parameters\n",
    "    num_train_epochs=5,\n",
    "    dataloader_pin_memory=False,\n",
    "    warmup_steps=500,\n",
    "    weight_decay=0.01,\n",
    "\n",
    "    # Saving, logging and evaluation\n",
    "    save_strategy=\"epoch\",\n",
    "    save_total_limit=3,\n",
    "    eval_strategy=\"epoch\",\n",
    "    logging_strategy=\"steps\",\n",
    "    logging_steps=1000,\n",
    "\n",
    "    # Early stopping\n",
    "    load_best_model_at_end=True, \n",
    "    metric_for_best_model=\"bleu\",\n",
    "    greater_is_better=True,\n",
    "\n",
    "    # Reproductibility\n",
    "    seed=SEED,\n",
    ") \n",
    "\n",
    "trainer = Seq2SeqTrainer(\n",
    "    model=model,\n",
    "    args=training_args,\n",
    "    train_dataset=dataset_train,\n",
    "    eval_dataset=dataset_val,\n",
    "    data_collator=custom_collate_fn,\n",
    "    callbacks=[EarlyStoppingCallback()],\n",
    "    compute_metrics=compute_metrics,\n",
    "    processing_class=processor\n",
    ")"
   ]
  },
  {
   "cell_type": "markdown",
   "metadata": {},
   "source": [
    "# Train and evaluate the model"
   ]
  },
  {
   "cell_type": "code",
   "execution_count": null,
   "metadata": {},
   "outputs": [],
   "source": [
    "trainer.train()\n",
    "trainer.eval_dataset = dataset_test\n",
    "print(trainer.evaluate())"
   ]
  },
  {
   "cell_type": "code",
   "execution_count": 29,
   "metadata": {},
   "outputs": [],
   "source": [
    "def show_data(sample):\n",
    "    \"\"\"\n",
    "    Display the image and the expected text of any sample of the train, test or validation dataset\n",
    "    \"\"\"\n",
    "    generated_text = tokenizer.decode(sample[\"labels\"],skip_special_tokens=True)\n",
    "    plt.imshow(sample[\"image\"])\n",
    "    plt.show()\n",
    "    print(generated_text)\n",
    "\n",
    "def inference_path(image_path):\n",
    "    image = Image.open(image_path).convert(\"RGB\")\n",
    "    plt.imshow(image)\n",
    "    plt.show()\n",
    "    pixel_values = processor(image,return_tensors=\"pt\").pixel_values\n",
    "    generated_ids = model.generate(pixel_values)\n",
    "    generated_text = tokenizer.decode(generated_ids[0],skip_special_tokens=True)\n",
    "    print(generated_text)\n",
    "\n",
    "def inference_dataset(sample):\n",
    "    image = sample[\"image\"]\n",
    "    pixel_values = processor(image,return_tensors=\"pt\").pixel_values.to(device)\n",
    "    with torch.inference_mode():\n",
    "        generated_ids = model.generate(pixel_values)\n",
    "    generated_text = tokenizer.decode(generated_ids[0],skip_special_tokens=True)\n",
    "    print(generated_text)"
   ]
  },
  {
   "cell_type": "code",
   "execution_count": null,
   "metadata": {},
   "outputs": [
    {
     "data": {
      "image/png": "[encoded data removed]",
      "text/plain": [
       "<Figure size 640x480 with 1 Axes>"
      ]
     },
     "metadata": {},
     "output_type": "display_data"
    },
    {
     "name": "stdout",
     "output_type": "stream",
     "text": [
      "d s ^ { 2 } = - N ^ { 2 } \\left( r \\right) d t ^ { 2 } + \\frac { d r ^ { 2 } } { 1 - \\frac { 2 m } { r } }\n"
     ]
    }
   ],
   "source": [
    "# Perform inference\n",
    "show_data(dataset_test[0])\n",
    "inference_dataset(dataset_test[0])"
   ]
  },
  {
   "cell_type": "markdown",
   "metadata": {},
   "source": [
    "# Results and conclusion  \n",
    "\n",
    "We trained the model on the entire dataset for 3 epochs and obtained a BLEU score of 0.23 on the test set. We ran the experiment on the high-performance computing platform Grid5000 using four Tesla V100 GPUs to speed up computation and ensure reproducibility.\n",
    "\n",
    "More concretely, after testing the model on several samples from the test dataset, we observed that it generates LaTeX code that is extremely close to the correct version, although it occasionally makes small mistakes. The main issue is that towards the end of the generation, the model tends to diverge and produce unrelated code. However, this could be partially corrected with some post-processing.  \n",
    "\n",
    "To further improve the results, future work could include using more data, possibly through data augmentation, and experimenting with different optimizers, such as the promising LoRA optimizer. Additionally, a model with higher parameter precision could enhance performance. We could also fine-tune the generation parameters to mitigate divergence issues—perhaps increasing the length penalty could help."
   ]
  },
  {
   "cell_type": "markdown",
   "metadata": {},
   "source": [
    "# References"
   ]
  },
  {
   "cell_type": "markdown",
   "metadata": {},
   "source": [
    "- Image-to-LaTeX Converter for Mathematical Formulas and Text: https://arxiv.org/abs/2408.04015\n",
    "- Hugginface Vision Encoder deocder models: https://huggingface.co/docs/transformers/en/model_doc/vision-encoder-decoder\n",
    "- Hugginface Trainer: https://huggingface.co/docs/transformers/en/main_classes/trainer\n",
    "- Hugginface Transformers: https://huggingface.co/docs/transformers/en/index"
   ]
  }
 ],
 "metadata": {
  "kernelspec": {
   "display_name": "base",
   "language": "python",
   "name": "python3"
  },
  "language_info": {
   "codemirror_mode": {
    "name": "ipython",
    "version": 3
   },
   "file_extension": ".py",
   "mimetype": "text/x-python",
   "name": "python",
   "nbconvert_exporter": "python",
   "pygments_lexer": "ipython3",
   "version": "3.12.7"
  }
 },
 "nbformat": 4,
 "nbformat_minor": 2
}

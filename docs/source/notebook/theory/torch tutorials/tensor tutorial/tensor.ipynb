{
 "cells": [
  {
   "cell_type": "code",
   "execution_count": 42,
   "metadata": {},
   "outputs": [],
   "source": [
    "import torch"
   ]
  },
  {
   "cell_type": "markdown",
   "metadata": {},
   "source": [
    "# Tensors"
   ]
  },
  {
   "cell_type": "markdown",
   "metadata": {},
   "source": [
    "## Definition"
   ]
  },
  {
   "cell_type": "markdown",
   "metadata": {
    "vscode": {
     "languageId": "plaintext"
    }
   },
   "source": [
    "- What is it ? A tensor is a multidimensional data structure provided by torch.\n",
    "\n",
    "- What is it used for ? Tensors are used to store data (for example, images and vectors of features). It is the input and output of torch neural networks and neural networks parameters are stored in tensors.\n",
    "\n",
    "- What are the attributes of a Tensor ? \n",
    "    - size : describe the length of each dimension\n",
    "    - dtype : the type of the scalars strored in the tensor (float,int, complex and more)\n",
    "    - device : the device where the tensor is stored in memory (typically CPU or GPU)\n",
    "    - dim : the number of dimensions of the tensor\n",
    "\n",
    "- Why use tensors rather than python lists ?\n",
    "    - The data of a tensor is contiguous in memory, allowing fast computations"
   ]
  },
  {
   "cell_type": "markdown",
   "metadata": {
    "vscode": {
     "languageId": "plaintext"
    }
   },
   "source": [
    "Tensors are generalization of matrices (which are 2d data-structures) to n-dimensionnal data structure.\n",
    "Formally a 3d tensor $t$ of size $(n,m,t)$ is a familly of scalars that is indexed 3 integers $i,j,k$ : $t = ( t[i][j][k] )_{ 0\\leq i<n, \\quad 0\\leq j<n , \\quad  0\\leq k<n }$.\n",
    "So to access an element of $t$ you need to specify $3$ dimension (i,j,k) as well as you need to specify $2$ dimension to access an element of a matrix. We can generalize the définition to n-dimensionnal tensors.\n",
    "\n"
   ]
  },
  {
   "cell_type": "markdown",
   "metadata": {},
   "source": [
    "\n",
    "\n",
    "<img src=\"img_tensors.png\" alt=\"Description de l'image\" width=\"400\" height=\"300\">"
   ]
  },
  {
   "cell_type": "markdown",
   "metadata": {},
   "source": [
    "## Intialize, create a tensor"
   ]
  },
  {
   "cell_type": "markdown",
   "metadata": {},
   "source": [
    "### From scratch"
   ]
  },
  {
   "cell_type": "markdown",
   "metadata": {},
   "source": [
    "In which situation tensors are created from scratch ? For example, to test a program \n",
    "instead of processing real data you create your own, maybe random tensor. Tensors need to be initialized in neural networks, often randomly.\n",
    "\n",
    "Few useful functions from torch:\n",
    "- torch.zeros: \n",
    "    - Input: a size\n",
    "    - Output: a tensor full of zeros\n",
    "- torch.ones:\n",
    "    - Input: a size\n",
    "    - Output: a tensor full of ones\n",
    "- torch.eye:\n",
    "    - Input: 1 integer for a squared matrix, or 2 integers for a rectangular matrix\n",
    "    - Output: a matrix with ones on the diagonal and zeros elsewere\n",
    "- torch.rand:\n",
    "    - Input: a size\n",
    "    - Output: a tensor with scalars sampled uniformly at random in $[0,1]$\n",
    "- torch.randn: \n",
    "    - Input: a size \n",
    "    - Output: a tensor with scalars sampled from the standard normal distribution"
   ]
  },
  {
   "cell_type": "code",
   "execution_count": 43,
   "metadata": {},
   "outputs": [],
   "source": [
    "# Examples \n",
    "\n",
    "# One example for a matrix size \n",
    "size_mat = (3,3)\n",
    "# One example for a 3d tensor \n",
    "size_3d_tensor = (2,3,3)"
   ]
  },
  {
   "cell_type": "code",
   "execution_count": 44,
   "metadata": {},
   "outputs": [
    {
     "name": "stdout",
     "output_type": "stream",
     "text": [
      "torch.zeros:\n",
      "tensor([[0., 0., 0.],\n",
      "        [0., 0., 0.],\n",
      "        [0., 0., 0.]])\n",
      "tensor([[[0., 0., 0.],\n",
      "         [0., 0., 0.],\n",
      "         [0., 0., 0.]],\n",
      "\n",
      "        [[0., 0., 0.],\n",
      "         [0., 0., 0.],\n",
      "         [0., 0., 0.]]])\n"
     ]
    }
   ],
   "source": [
    "# Use of torch.zeros\n",
    "print(\"torch.zeros:\")\n",
    "t = torch.zeros(size_mat)\n",
    "print(t)\n",
    "t = torch.zeros(size_3d_tensor)\n",
    "print(t)"
   ]
  },
  {
   "cell_type": "code",
   "execution_count": 45,
   "metadata": {},
   "outputs": [
    {
     "name": "stdout",
     "output_type": "stream",
     "text": [
      "torch.ones:\n",
      "tensor([[1., 1., 1.],\n",
      "        [1., 1., 1.],\n",
      "        [1., 1., 1.]])\n",
      "tensor([[[1., 1., 1.],\n",
      "         [1., 1., 1.],\n",
      "         [1., 1., 1.]],\n",
      "\n",
      "        [[1., 1., 1.],\n",
      "         [1., 1., 1.],\n",
      "         [1., 1., 1.]]])\n"
     ]
    }
   ],
   "source": [
    "# Use of torch.ones \n",
    "print(\"torch.ones:\")\n",
    "t = torch.ones(size_mat)\n",
    "print(t)\n",
    "t = torch.ones(size_3d_tensor)\n",
    "print(t)"
   ]
  },
  {
   "cell_type": "code",
   "execution_count": 46,
   "metadata": {},
   "outputs": [
    {
     "name": "stdout",
     "output_type": "stream",
     "text": [
      "torch.eye:\n",
      "tensor([[1., 0., 0., 0., 0., 0., 0., 0.],\n",
      "        [0., 1., 0., 0., 0., 0., 0., 0.],\n",
      "        [0., 0., 1., 0., 0., 0., 0., 0.]])\n"
     ]
    }
   ],
   "source": [
    "# Use of torch.eye\n",
    "print(\"torch.eye:\")\n",
    "t = torch.eye(3,8)\n",
    "print(t)"
   ]
  },
  {
   "cell_type": "code",
   "execution_count": 47,
   "metadata": {},
   "outputs": [
    {
     "name": "stdout",
     "output_type": "stream",
     "text": [
      "torch.rand:\n",
      "tensor([[0.8839, 0.3826, 0.4673],\n",
      "        [0.4336, 0.3027, 0.3050],\n",
      "        [0.1909, 0.0944, 0.7962]])\n",
      "tensor([[[0.2130, 0.3661, 0.9635],\n",
      "         [0.0976, 0.6335, 0.4093],\n",
      "         [0.4439, 0.9078, 0.7420]],\n",
      "\n",
      "        [[0.2697, 0.2037, 0.4582],\n",
      "         [0.9020, 0.4937, 0.7643],\n",
      "         [0.6405, 0.9021, 0.9819]]])\n"
     ]
    }
   ],
   "source": [
    "# Use of torch.rand\n",
    "print(\"torch.rand:\")\n",
    "t = torch.rand(size_mat)\n",
    "print(t)\n",
    "t = torch.rand(size_3d_tensor)\n",
    "print(t)"
   ]
  },
  {
   "cell_type": "code",
   "execution_count": 48,
   "metadata": {},
   "outputs": [
    {
     "name": "stdout",
     "output_type": "stream",
     "text": [
      "torch.randn:\n",
      "tensor([[ 0.1899,  0.3141,  1.7698],\n",
      "        [-0.1104, -0.8260, -0.2686],\n",
      "        [-0.0931, -0.1995, -0.3204]])\n",
      "tensor([[[ 2.0434, -1.1787, -0.5447],\n",
      "         [-0.2331,  1.0554, -0.0523],\n",
      "         [ 0.1266, -0.0477, -0.4608]],\n",
      "\n",
      "        [[-0.8478,  0.9271, -0.3248],\n",
      "         [-0.2420,  0.5935, -0.2291],\n",
      "         [-0.1701, -1.1707,  2.4336]]])\n"
     ]
    }
   ],
   "source": [
    "# Use of torch.randn\n",
    "print(\"torch.randn:\")\n",
    "t = torch.randn(size_mat)\n",
    "print(t)\n",
    "t = torch.randn(size_3d_tensor)\n",
    "print(t)"
   ]
  },
  {
   "cell_type": "markdown",
   "metadata": {},
   "source": [
    "Some functions to create 1d tensors: \n",
    "- torch.linspace:\n",
    "    - Input: a start, an end, and a step \n",
    "    - Output: Creates a one-dimensional tensor of size steps whose values are evenly spaced from start to end, inclusive\n",
    "- torch.arange:\n",
    "    - Input: a start, an end, and a step \n",
    "    - Output: Creates a one-dimensional tensor with values start, start+step, +start + 2*step,... while start + k * step < end"
   ]
  },
  {
   "cell_type": "code",
   "execution_count": 49,
   "metadata": {},
   "outputs": [
    {
     "name": "stdout",
     "output_type": "stream",
     "text": [
      "tensor([ 1.,  2.,  3.,  4.,  5.,  6.,  7.,  8.,  9., 10.])\n",
      "tensor([0.2000, 0.2458, 0.2917, 0.3375, 0.3833, 0.4292, 0.4750, 0.5208, 0.5667,\n",
      "        0.6125, 0.6583, 0.7042, 0.7500, 0.7958, 0.8417, 0.8875, 0.9333, 0.9792,\n",
      "        1.0250, 1.0708, 1.1167, 1.1625, 1.2083, 1.2542, 1.3000])\n"
     ]
    }
   ],
   "source": [
    "# Example for linspace\n",
    "print(torch.linspace(1,10,10))\n",
    "print(torch.linspace(0.2,1.3,25))"
   ]
  },
  {
   "cell_type": "code",
   "execution_count": 50,
   "metadata": {},
   "outputs": [
    {
     "name": "stdout",
     "output_type": "stream",
     "text": [
      "tensor([1, 2, 3, 4, 5, 6, 7, 8, 9])\n",
      "tensor([ 3,  7, 11, 15, 19])\n"
     ]
    }
   ],
   "source": [
    "# Example for arange\n",
    "print(torch.arange(1,10,1))\n",
    "print(torch.arange(3,20,4))"
   ]
  },
  {
   "cell_type": "markdown",
   "metadata": {},
   "source": [
    "### From existing data"
   ]
  },
  {
   "cell_type": "markdown",
   "metadata": {},
   "source": [
    "In which situation should you convert a data structure into a tensor ? If you have some \n",
    "numpy arrays or python lists that you want to use a data train your neural network with torch, you will need to convert them into tensors.\n",
    "\n",
    "For that we will use the function torch.tensor.\n",
    "\n",
    "Which data structure can we convert into tensors with the function torch.tensor ? Some important ones :\n",
    "- Python lists \n",
    "- Python scalars\n",
    "- Numpy arrays\n",
    "- Pandas dataframes"
   ]
  },
  {
   "cell_type": "code",
   "execution_count": 51,
   "metadata": {},
   "outputs": [
    {
     "name": "stdout",
     "output_type": "stream",
     "text": [
      "from a list: tensor([1, 2, 3])\n",
      "from a matrix tensor([[1, 2, 3],\n",
      "        [4, 5, 6]])\n",
      "from a scalar: tensor(861)\n",
      "from a scalar: tensor([ 0., 10., 20., 30., 40., 50.], dtype=torch.float64)\n"
     ]
    }
   ],
   "source": [
    "# From a Python list \n",
    "l = [1,2,3]\n",
    "t = torch.tensor(l)\n",
    "print(\"from a list:\",t)\n",
    "\n",
    "# From a matrix \n",
    "m = [[1,2,3],[4,5,6]]\n",
    "t = torch.tensor(m)\n",
    "print(\"from a matrix\",t)\n",
    "\n",
    "# From a Python scalar\n",
    "x = 861 \n",
    "t = torch.tensor(x)\n",
    "print(\"from a scalar:\",t)\n",
    "\n",
    "# From a Numpy array\n",
    "import numpy as np\n",
    "arr = np.linspace(0,50,6)\n",
    "t = torch.tensor(arr)\n",
    "print(\"from a scalar:\",t)\n",
    "\n",
    "# You can also convert a tensor into a numpy array by doing t.numpy()\n",
    "\n",
    "# # From a dataframe \n",
    "# import pandas as pd\n",
    "# # We build a data set from a group of 2 grils and one boy\n",
    "# features = [\"boy\",\"girl\"]\n",
    "# observations = [[0,1],[0,1],[1,0]]\n",
    "# df = pd.DataFrame(observations,columns=features)\n",
    "# print(df)\n",
    "# t = torch.tensor(df)\n",
    "# print(\"from a dataframe:\",t)"
   ]
  },
  {
   "cell_type": "markdown",
   "metadata": {},
   "source": [
    "Two ways of converting the type of the elements in a tensor : \n",
    "- torch.tensor(t,dtype=name_of_the_type): it **copies** t and converts the elements into the desired type\n",
    "- torch.name_of_the_type() : it **copies** t and converts the elements into the desired type"
   ]
  },
  {
   "cell_type": "code",
   "execution_count": 52,
   "metadata": {},
   "outputs": [
    {
     "name": "stdout",
     "output_type": "stream",
     "text": [
      "torch.FloatTensor\n",
      "torch.LongTensor\n",
      "Are t and t2 the same in memory ?  False\n"
     ]
    },
    {
     "name": "stderr",
     "output_type": "stream",
     "text": [
      "/var/folders/rj/jncxshgs6tjb572dxm8jzvwc0000gn/T/ipykernel_51803/1658941027.py:4: UserWarning: To copy construct from a tensor, it is recommended to use sourceTensor.clone().detach() or sourceTensor.clone().detach().requires_grad_(True), rather than torch.tensor(sourceTensor).\n",
      "  t2 = torch.tensor(t,dtype=torch.long)\n"
     ]
    }
   ],
   "source": [
    "# Example for torch.tensor(t,dtype=name_of_the_type)\n",
    "t = torch.tensor([[1,2],[3,4]] , dtype=torch.float)\n",
    "print(t.type())\n",
    "t2 = torch.tensor(t,dtype=torch.long)\n",
    "print(t2.type())\n",
    "print(\"Are t and t2 the same in memory ? \",t.data_ptr() == t2.data_ptr())"
   ]
  },
  {
   "cell_type": "code",
   "execution_count": 53,
   "metadata": {},
   "outputs": [
    {
     "name": "stdout",
     "output_type": "stream",
     "text": [
      "torch.FloatTensor\n",
      "torch.LongTensor\n",
      "Are t and t2 the same in memory ?  False\n"
     ]
    }
   ],
   "source": [
    "# Example for torch.name_of_the_type()\n",
    "t = torch.tensor([[1,2],[3,4]] , dtype=torch.float)\n",
    "print(t.type())\n",
    "t2 = t.long()\n",
    "print(t2.type())\n",
    "print(\"Are t and t2 the same in memory ? \",t.data_ptr() == t2.data_ptr())"
   ]
  },
  {
   "cell_type": "markdown",
   "metadata": {},
   "source": [
    "## Operations on tensors"
   ]
  },
  {
   "cell_type": "markdown",
   "metadata": {},
   "source": [
    "### Basic operations\n",
    "\n",
    "Some common operations on tensors :\n",
    "- Addition (elementwise):\n",
    "    - Input: t, t' two tensors with equal size \n",
    "    - Output: t+t' \n",
    "\n",
    "- Multiplication by a scalar (elementwise):\n",
    "    - Input: t a tensor, $a$ a scalar\n",
    "    - Output: $a$*t where each element of t is multiplied by $a$\n",
    "\n",
    "- Multiplication by a tensor (elementwise):\n",
    "    - Input: t, t' two tensors with equal size \n",
    "    - Output: t*t' where each element of t is multiplied by $a$\n",
    "\n",
    "- Multiplication of 2d tensors (matrix multiplication):\n",
    "    - Input : t, t' two 2d tensors\n",
    "    - Output : t @ t' the matrix multiplication of t and t'"
   ]
  },
  {
   "cell_type": "code",
   "execution_count": 54,
   "metadata": {},
   "outputs": [
    {
     "name": "stdout",
     "output_type": "stream",
     "text": [
      "t: tensor([[1., 1., 1.],\n",
      "        [1., 1., 1.],\n",
      "        [1., 1., 1.]])\n",
      "t+t: tensor([[2., 2., 2.],\n",
      "        [2., 2., 2.],\n",
      "        [2., 2., 2.]])\n",
      "12*t: tensor([[12., 12., 12.],\n",
      "        [12., 12., 12.],\n",
      "        [12., 12., 12.]])\n",
      "t2: tensor([[1., 0., 0.],\n",
      "        [0., 1., 0.],\n",
      "        [0., 0., 1.]])\n",
      "t*t2: tensor([[1., 0., 0.],\n",
      "        [0., 1., 0.],\n",
      "        [0., 0., 1.]])\n",
      "t@t2: tensor([[1., 1., 1.],\n",
      "        [1., 1., 1.],\n",
      "        [1., 1., 1.]])\n"
     ]
    }
   ],
   "source": [
    "# Examples\n",
    "t = torch.ones((3,3))\n",
    "print(\"t:\",t)\n",
    "print(\"t+t:\",t+t)\n",
    "print(\"12*t:\",12*t)\n",
    "t2 = torch.eye(3)\n",
    "print(\"t2:\",t2)\n",
    "print(\"t*t2:\",t*t2)\n",
    "print(\"t@t2:\",t@t2)"
   ]
  },
  {
   "cell_type": "markdown",
   "metadata": {},
   "source": [
    "### Functions on dimension\n",
    "\n",
    "Some functions playing with dimensions :\n",
    "- reshape:\n",
    "    - Input: a tensor and a compatible size (the number of elements must be the same)\n",
    "    - Output: a tensor with the new values as the source tensor but with the new size\n",
    "- squeeze:\n",
    "    - Input: a tensor, the index of the dimension of size 1 you want to squeeze\n",
    "    - Output: the tensor with the dimension given removed\n",
    "- unsqueeze:\n",
    "    - Input: a tensor and the index at which to insert the singleton dimension\n",
    "    - Output: returns a new tensor with a dimension of size one inserted at the specified position.\n",
    "- unbind:\n",
    "    - Input: a tensor\n",
    "    - Output: Returns a tuple of all slices along a given dimension, already without it\n",
    "- swapaxes:\n",
    "    - Input: a tensor, axis1, and axis2\n",
    "    - Output: Returns a tensor that is a transposed version of input. The given dimensions axis0 and axis1 are swapped\n",
    "- cat: \n",
    "    - Input: a sequence of tensors and the index of the dimension along which you want to concatenate the tensors. All tensors must either have the same shape (except in the concatenating dimension) \n",
    "    - Output: Concatenates the given sequence of tensors in tensors in the given dimension. "
   ]
  },
  {
   "cell_type": "code",
   "execution_count": 55,
   "metadata": {},
   "outputs": [
    {
     "name": "stdout",
     "output_type": "stream",
     "text": [
      "tensor([[1, 2, 3],\n",
      "        [4, 5, 6]])\n",
      "tensor([[1, 2],\n",
      "        [3, 4],\n",
      "        [5, 6]])\n",
      "tensor([[1, 2],\n",
      "        [3, 4],\n",
      "        [5, 6]])\n",
      "tensor([1, 2, 3, 4, 5, 6])\n",
      "tensor([[[[1, 2, 3],\n",
      "          [4, 5, 6]]]])\n"
     ]
    }
   ],
   "source": [
    "# Example for reshape\n",
    "t = torch.tensor([[1,2,3],[4,5,6]])\n",
    "print(t)\n",
    "print(t.reshape((3,2)))\n",
    "# As the number of elements must be the same we let torch inferre one dimension by leaving it at -1\n",
    "print(t.reshape((3,-1)))\n",
    "print(t.reshape((-1,)))\n",
    "print(t.reshape(1,1,2,3))\n"
   ]
  },
  {
   "cell_type": "code",
   "execution_count": 56,
   "metadata": {},
   "outputs": [
    {
     "name": "stdout",
     "output_type": "stream",
     "text": [
      "tensor([[1, 2, 3, 4, 5]])\n",
      "torch.Size([1, 5])\n",
      "tensor([1, 2, 3, 4, 5])\n",
      "torch.Size([5])\n",
      "\n",
      "tensor([[1],\n",
      "        [2],\n",
      "        [3],\n",
      "        [4],\n",
      "        [5]])\n",
      "torch.Size([5, 1])\n",
      "tensor([1, 2, 3, 4, 5])\n",
      "torch.Size([5])\n"
     ]
    }
   ],
   "source": [
    "# Example for squeeze\n",
    "t = torch.tensor([[1,2,3,4,5]])\n",
    "print(t)\n",
    "print(t.size())\n",
    "\n",
    "t2 = torch.squeeze(t,0)\n",
    "print(t2)\n",
    "print(t2.size())\n",
    "\n",
    "print()\n",
    "\n",
    "t = torch.tensor([[1],[2],[3],[4],[5]])\n",
    "print(t)\n",
    "print(t.size())\n",
    "\n",
    "t2 = torch.squeeze(t,1)\n",
    "print(t2)\n",
    "print(t2.size())\n"
   ]
  },
  {
   "cell_type": "code",
   "execution_count": 57,
   "metadata": {},
   "outputs": [
    {
     "name": "stdout",
     "output_type": "stream",
     "text": [
      "tensor([1, 2, 3, 4])\n",
      "tensor([[1, 2, 3, 4]])\n",
      "tensor([[1],\n",
      "        [2],\n",
      "        [3],\n",
      "        [4]])\n"
     ]
    }
   ],
   "source": [
    "# Example of unsqueeze\n",
    "t = torch.tensor([1,2,3,4])\n",
    "print(t)\n",
    "print(torch.unsqueeze(t,0))\n",
    "print(torch.unsqueeze(t,1))\n",
    "# for example, it is used for adding a batch dimension as a first dimension : t.unsqueeze(0)"
   ]
  },
  {
   "cell_type": "code",
   "execution_count": 58,
   "metadata": {},
   "outputs": [
    {
     "name": "stdout",
     "output_type": "stream",
     "text": [
      "tensor([[1, 2, 3],\n",
      "        [4, 5, 6],\n",
      "        [7, 8, 9]])\n",
      "(tensor([1, 2, 3]), tensor([4, 5, 6]), tensor([7, 8, 9]))\n",
      "(tensor([1, 4, 7]), tensor([2, 5, 8]), tensor([3, 6, 9]))\n"
     ]
    }
   ],
   "source": [
    "# Example of unbind\n",
    "t = torch.tensor([[1,2,3],\n",
    "                  [4,5,6],\n",
    "                  [7,8,9]]\n",
    "                )\n",
    "print(t)\n",
    "print(torch.unbind(t,0))\n",
    "print(torch.unbind(t,1))"
   ]
  },
  {
   "cell_type": "code",
   "execution_count": 59,
   "metadata": {},
   "outputs": [
    {
     "name": "stdout",
     "output_type": "stream",
     "text": [
      "tensor([[1, 2, 3],\n",
      "        [4, 5, 6],\n",
      "        [7, 8, 9]])\n",
      "tensor([[1, 4, 7],\n",
      "        [2, 5, 8],\n",
      "        [3, 6, 9]])\n"
     ]
    }
   ],
   "source": [
    "# Example of swapaxes \n",
    "t = torch.tensor([[1,2,3],\n",
    "                  [4,5,6],\n",
    "                  [7,8,9]]\n",
    "                )\n",
    "print(t)\n",
    "print(torch.swapaxes(t,0,1))\n",
    "# An example of application:\n",
    "# if you receiv a an image whith size (3,28,28) where 3 are the canals then to swap the canals \n",
    "# to the last dimension you can do torch.swapaxes(t,0,2) and otain a tensor of size (28,28,3)"
   ]
  },
  {
   "cell_type": "code",
   "execution_count": 60,
   "metadata": {},
   "outputs": [
    {
     "name": "stdout",
     "output_type": "stream",
     "text": [
      "tensor([[ 1,  2,  3],\n",
      "        [ 4,  5,  6],\n",
      "        [ 7,  8,  9],\n",
      "        [10, 11, 12],\n",
      "        [13, 14, 15],\n",
      "        [16, 17, 18]])\n",
      "tensor([[ 1,  2,  3, 10, 11, 12],\n",
      "        [ 4,  5,  6, 13, 14, 15],\n",
      "        [ 7,  8,  9, 16, 17, 18]])\n"
     ]
    }
   ],
   "source": [
    "# Example for cat\n",
    "t = torch.tensor([[1,2,3],\n",
    "                  [4,5,6],\n",
    "                  [7,8,9]]\n",
    "                )\n",
    "t2 = torch.tensor([[10,11,12],\n",
    "                   [13,14,15],\n",
    "                   [16,17,18]\n",
    "                   ]\n",
    "                )\n",
    "\n",
    "# Concatenate the rows\n",
    "print(torch.cat([t,t2],0))\n",
    "# Concatenate the cols\n",
    "print(torch.cat([t,t2],1))\n",
    "\n",
    "# An example of application:\n",
    "# Create a batch from a sequence of datapoints"
   ]
  },
  {
   "cell_type": "markdown",
   "metadata": {},
   "source": [
    "### Reductions operations"
   ]
  },
  {
   "cell_type": "markdown",
   "metadata": {},
   "source": [
    "Some functions extrating datas from tensors :\n",
    "- sum:\n",
    "    - Input: a tensor\n",
    "    - Output: the sum of all scalars in the tensors\n",
    "- mean:\n",
    "    - Input: a tensor with float scalars\n",
    "    - Output: the mean of the scalars in the tensor\n",
    "- amax:\n",
    "    - Input: a tensor, a dimension\n",
    "    - Output: the maximum value of each slice of the input tensor in the given dimension"
   ]
  },
  {
   "cell_type": "code",
   "execution_count": 61,
   "metadata": {},
   "outputs": [
    {
     "name": "stdout",
     "output_type": "stream",
     "text": [
      "tensor(10.)\n",
      "tensor(2.5000)\n",
      "tensor([2., 4.])\n",
      "tensor([3., 4.])\n"
     ]
    }
   ],
   "source": [
    "t = torch.tensor([[1,2],\n",
    "                  [3,4]],dtype=torch.float)\n",
    "print(t.sum())\n",
    "print(t.mean())\n",
    "# for each row we compute the max value\n",
    "print(t.amax(1))\n",
    "# for each col we compute the max value\n",
    "print(t.amax(0))"
   ]
  },
  {
   "cell_type": "markdown",
   "metadata": {},
   "source": [
    "### Math functions\n",
    "\n",
    "Some important operations :\n",
    "- allclose (used to test the equality between two tensors): \n",
    "    - Input: two tensors t1,t2 of same size \n",
    "    - Output: true if for all elements of t1 and t2 are close enough\n",
    "- sign:\n",
    "    - Input: a tensor\n",
    "    - Ouput: for each element x , -1 if x<0 , 0 if x=0 , 1 if x>0"
   ]
  },
  {
   "cell_type": "code",
   "execution_count": 62,
   "metadata": {},
   "outputs": [
    {
     "name": "stdout",
     "output_type": "stream",
     "text": [
      "False\n",
      "True\n",
      "tensor([[ 0.4929, -1.3010, -2.9695],\n",
      "        [ 2.5780, -0.6066,  0.7551],\n",
      "        [ 1.3309, -0.8695, -0.8887]])\n",
      "tensor([[ 1., -1., -1.],\n",
      "        [ 1., -1.,  1.],\n",
      "        [ 1., -1., -1.]])\n"
     ]
    }
   ],
   "source": [
    "t1 = torch.zeros((3,3),dtype=torch.float)\n",
    "t2 = torch.ones((3,3),dtype=torch.float)\n",
    "\n",
    "# Example for allclose\n",
    "print(torch.allclose(t1,t2))\n",
    "print(torch.allclose(t1,t2/100000000))\n",
    "\n",
    "# Example for sign \n",
    "t = torch.randn((3,3))\n",
    "print(t)\n",
    "print(torch.sign(t))"
   ]
  },
  {
   "cell_type": "markdown",
   "metadata": {},
   "source": [
    "## References\n",
    "- https://pytorch.org/docs/stable/torch.html#tensors"
   ]
  }
 ],
 "metadata": {
  "kernelspec": {
   "display_name": "Python 3",
   "language": "python",
   "name": "python3"
  },
  "language_info": {
   "codemirror_mode": {
    "name": "ipython",
    "version": 3
   },
   "file_extension": ".py",
   "mimetype": "text/x-python",
   "name": "python",
   "nbconvert_exporter": "python",
   "pygments_lexer": "ipython3",
   "version": "3.10.12"
  }
 },
 "nbformat": 4,
 "nbformat_minor": 2
}

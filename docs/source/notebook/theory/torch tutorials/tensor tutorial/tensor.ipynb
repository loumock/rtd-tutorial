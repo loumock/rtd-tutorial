{
 "cells": [
  {
   "cell_type": "markdown",
   "metadata": {},
   "source": [
    "# Tensors"
   ]
  },
  {
   "cell_type": "code",
   "execution_count": 1,
   "metadata": {},
   "outputs": [],
   "source": [
    "import torch"
   ]
  },
  {
   "cell_type": "markdown",
   "metadata": {},
   "source": [
    "## Introduction"
   ]
  },
  {
   "cell_type": "markdown",
   "metadata": {
    "vscode": {
     "languageId": "plaintext"
    }
   },
   "source": [
    "- **What is it?**  \n",
    "  A tensor is a multidimensional data structure provided by PyTorch.\n",
    "\n",
    "- **What is it used for?**  \n",
    "  - Tensors are used to store data (e.g., images and feature vectors).  \n",
    "  - They serve as the input and output of PyTorch neural networks.  \n",
    "  - Neural network parameters are stored in tensors.  \n",
    "\n",
    "- **What are the main attributes of a tensor?**  \n",
    "  - **`size`**: Describes the length of each dimension.  \n",
    "  - **`dtype`**: Specifies the type of the scalars stored in the tensor (e.g., float, int, or complex).  \n",
    "  - **`device`**: Indicates the device where the tensor is stored in memory (typically CPU or GPU).  \n",
    "  - **`dim`**: Represents the number of dimensions of the tensor.  \n",
    "\n",
    "- **Why use tensors instead of Python lists?**  \n",
    "  The data within a tensor is stored contiguously in memory, enabling fast computations.  "
   ]
  },
  {
   "cell_type": "markdown",
   "metadata": {
    "vscode": {
     "languageId": "plaintext"
    }
   },
   "source": [
    "Tensors are a generalization of matrices (which are 2-dimensional data structures) to n-dimensional data structures.  \n",
    "\n",
    "Formally, a 3D tensor $ t $ of size $((n, m, p))$ is a family of scalars indexed by three integers $( i, j, k )$:  \n",
    "$$\n",
    "t = \\big( t[i][j][k] \\big)_{0 \\leq i < n, \\; 0 \\leq j < m, \\; 0 \\leq k < p}\n",
    "$$\n",
    "\n",
    "To access an element of $t $, you need to specify 3 indices $(i, j, k)$, just as you need to specify 2 indices to access an element of a matrix. This definition can be generalized to n-dimensional tensors.  "
   ]
  },
  {
   "cell_type": "markdown",
   "metadata": {},
   "source": [
    "<img src=\"img_tensors.png\" alt=\"Description de l'image\" width=\"400\" height=\"300\">  \n",
    "<p>Source: <a href=\"https://medium.com/@xinyu.chen/intuitive-understanding-of-tensors-in-machine-learning-33635c64b596\" target=\"_blank\">Medium - Intuitive Understanding of Tensors in Machine Learning</a></p>\n"
   ]
  },
  {
   "cell_type": "code",
   "execution_count": null,
   "metadata": {},
   "outputs": [],
   "source": [
    "# Example of a tensor\n",
    "t = torch.rand((2,3,4))\n",
    "print(t)\n",
    "print(t.size())\n",
    "print(t.dtype)\n",
    "print(t.device)\n",
    "print(t.ndim)"
   ]
  },
  {
   "cell_type": "markdown",
   "metadata": {},
   "source": [
    "## Create and Initialize Tensors"
   ]
  },
  {
   "cell_type": "markdown",
   "metadata": {},
   "source": [
    "### Creating Tensors from Scratch"
   ]
  },
  {
   "cell_type": "markdown",
   "metadata": {},
   "source": [
    "**In which situations are tensors created from scratch?**  \n",
    "For example, to test a program, instead of processing real data, you might create your own tensor, perhaps a random one. Tensors often need to be initialized randomly in neural networks.\n",
    "\n",
    "#### Create n-dimensional tensors:\n",
    "\n",
    "- **torch.zeros**:  \n",
    "    - **Input**: a size  \n",
    "    - **Output**: a tensor filled with zeros  \n",
    "\n",
    "- **torch.ones**:  \n",
    "    - **Input**: a size  \n",
    "    - **Output**: a tensor filled with ones  \n",
    "\n",
    "- **torch.eye**:  \n",
    "    - **Input**: 1 integer for a square matrix, or 2 integers for a rectangular matrix  \n",
    "    - **Output**: a matrix with ones on the diagonal and zeros elsewhere  \n",
    "\n",
    "- **torch.rand**:  \n",
    "    - **Input**: a size  \n",
    "    - **Output**: a tensor with scalars sampled uniformly at random in \\([0, 1]\\)  \n",
    "\n",
    "- **torch.randn**:  \n",
    "    - **Input**: a size  \n",
    "    - **Output**: a tensor with scalars sampled from the standard normal distribution   "
   ]
  },
  {
   "cell_type": "code",
   "execution_count": 3,
   "metadata": {},
   "outputs": [],
   "source": [
    "# Examples \n",
    "\n",
    "# size for a 2d tensor\n",
    "size_mat = (3,3)\n",
    "# size for a 3d tensor\n",
    "size_3d_tensor = (2,3,3)"
   ]
  },
  {
   "cell_type": "code",
   "execution_count": null,
   "metadata": {},
   "outputs": [],
   "source": [
    "# torch.zeros\n",
    "print(\"torch.zeros:\")\n",
    "t = torch.zeros(size_mat)\n",
    "print(t)\n",
    "t = torch.zeros(size_3d_tensor)\n",
    "print(t)"
   ]
  },
  {
   "cell_type": "code",
   "execution_count": null,
   "metadata": {},
   "outputs": [],
   "source": [
    "# torch.ones \n",
    "print(\"torch.ones:\")\n",
    "t = torch.ones(size_mat)\n",
    "print(t)\n",
    "t = torch.ones(size_3d_tensor)\n",
    "print(t)"
   ]
  },
  {
   "cell_type": "code",
   "execution_count": null,
   "metadata": {},
   "outputs": [],
   "source": [
    "# torch.eye\n",
    "print(\"torch.eye:\")\n",
    "t = torch.eye(3,8)\n",
    "print(t)"
   ]
  },
  {
   "cell_type": "code",
   "execution_count": null,
   "metadata": {},
   "outputs": [],
   "source": [
    "# torch.rand\n",
    "print(\"torch.rand:\")\n",
    "t = torch.rand(size_mat)\n",
    "print(t)\n",
    "t = torch.rand(size_3d_tensor)\n",
    "print(t)"
   ]
  },
  {
   "cell_type": "code",
   "execution_count": null,
   "metadata": {},
   "outputs": [],
   "source": [
    "# torch.randn\n",
    "print(\"torch.randn:\")\n",
    "t = torch.randn(size_mat)\n",
    "print(t)\n",
    "t = torch.randn(size_3d_tensor)\n",
    "print(t)"
   ]
  },
  {
   "cell_type": "markdown",
   "metadata": {},
   "source": [
    "#### Create 1D tensors:  \n",
    "\n",
    "- **torch.linspace**:  \n",
    "    - **Input**: a start, an end, and a number of steps  \n",
    "    - **Output**: Creates a one-dimensional tensor of size `steps`, with values evenly spaced from start to end, inclusive  \n",
    "\n",
    "- **torch.arange**:  \n",
    "    - **Input**: a start, an end, and a step  \n",
    "    - **Output**: Creates a one-dimensional tensor with values `start`, `start + step`, `start + 2*step`, ..., while `start + k * step < end` "
   ]
  },
  {
   "cell_type": "code",
   "execution_count": null,
   "metadata": {},
   "outputs": [],
   "source": [
    "# linspace\n",
    "print(torch.linspace(1,10,10))\n",
    "print(torch.linspace(0.2,1.3,25))"
   ]
  },
  {
   "cell_type": "code",
   "execution_count": null,
   "metadata": {},
   "outputs": [],
   "source": [
    "# arange\n",
    "print(torch.arange(1,10,1))\n",
    "print(torch.arange(3,20,4))"
   ]
  },
  {
   "cell_type": "markdown",
   "metadata": {},
   "source": [
    "### Creating Tensors from existing data"
   ]
  },
  {
   "cell_type": "markdown",
   "metadata": {},
   "source": [
    "#### From Python/Numpy/Pandas to Tensors"
   ]
  },
  {
   "cell_type": "markdown",
   "metadata": {},
   "source": [
    "**In which situations should you convert a data structure into a tensor?**  \n",
    "If you have some NumPy arrays or Python lists that you want to use as data to train your neural network with PyTorch, you will need to convert them into tensors.\n",
    "\n",
    "For that, we will use the function `torch.tensor`.\n",
    "\n",
    "**Which data structures can we convert into tensors with the function `torch.tensor`?** \n",
    "\n",
    "Some important ones:\n",
    "\n",
    "- Python lists  \n",
    "- Python scalars  \n",
    "- NumPy arrays  \n",
    "- Pandas DataFrames  "
   ]
  },
  {
   "cell_type": "code",
   "execution_count": null,
   "metadata": {},
   "outputs": [],
   "source": [
    "# From a Python list \n",
    "l = [1,2,3]\n",
    "t = torch.tensor(l)\n",
    "print(\"from a list:\",t)\n",
    "\n",
    "# From a matrix \n",
    "m = [[1,2,3],[4,5,6]]\n",
    "t = torch.tensor(m)\n",
    "print(\"from a matrix\",t)\n",
    "\n",
    "# From a Python scalar\n",
    "x = 861 \n",
    "t = torch.tensor(x)\n",
    "print(\"from a scalar:\",t)\n",
    "\n",
    "# From a Numpy array\n",
    "import numpy as np\n",
    "arr = np.linspace(0,50,6)\n",
    "t = torch.tensor(arr)\n",
    "print(\"from a scalar:\",t)\n",
    "# Remark: You can convert a tensor into a numpy array by doing t.numpy()"
   ]
  },
  {
   "cell_type": "markdown",
   "metadata": {},
   "source": [
    "#### From Tensor to Tensor: Converting Scalar Dtype\n",
    "\n",
    "There are two recommended ways to convert the type of the elements in a tensor:\n",
    "\n",
    "- `t.clone().detach().to(dtype=name_of_the_type)`: It **creates a new tensor** by copying `t`, detaching it from the computation graph (if applicable), and converting the elements into the desired type.\n",
    "\n",
    "- `torch.name_of_the_type(t)`: It **creates a new tensor** by copying `t` and converting the elements into the desired type, though this approach may not always be ideal for tensors with gradients."
   ]
  },
  {
   "cell_type": "code",
   "execution_count": null,
   "metadata": {},
   "outputs": [],
   "source": [
    "# Example for converting tensor dtype using clone().detach()\n",
    "t = torch.tensor([[1, 2], [3, 4]], dtype=torch.float)\n",
    "print(t.type())\n",
    "\n",
    "# Correct way to convert dtype\n",
    "t2 = t.clone().detach().to(torch.long)\n",
    "print(t2.type())\n",
    "\n",
    "print(\"Are t and t2 the same in memory?\", t.data_ptr() == t2.data_ptr())"
   ]
  },
  {
   "cell_type": "code",
   "execution_count": null,
   "metadata": {},
   "outputs": [],
   "source": [
    "# Example for torch.name_of_the_type()\n",
    "t = torch.tensor([[1,2],[3,4]] , dtype=torch.float)\n",
    "print(t.type())\n",
    "t2 = t.long()\n",
    "print(t2.type())\n",
    "print(\"Are t and t2 the same in memory?\",t.data_ptr() == t2.data_ptr())"
   ]
  },
  {
   "cell_type": "markdown",
   "metadata": {},
   "source": [
    "## Operations on tensors"
   ]
  },
  {
   "cell_type": "markdown",
   "metadata": {},
   "source": [
    "### Basic Operations\n",
    "\n",
    "Some common operations on tensors:\n",
    "\n",
    "- **Addition (elementwise)**:  \n",
    "    - **Input**: `t`, `t'` two tensors with equal size  \n",
    "    - **Output**: `t + t'`  \n",
    "\n",
    "- **Multiplication by a scalar (elementwise)**:  \n",
    "    - **Input**: `t` a tensor, `a` a scalar  \n",
    "    - **Output**: `a * t`, where each element of `t` is multiplied by `a`  \n",
    "\n",
    "- **Multiplication by a tensor (elementwise)**:  \n",
    "    - **Input**: `t`, `t'` two tensors with equal size  \n",
    "    - **Output**: `t * t'`, where each element of `t` is multiplied by the corresponding element of `t'`  \n",
    "\n",
    "- **Multiplication of 2D tensors (matrix multiplication)**:  \n",
    "    - **Input**: `t`, `t'` two 2D tensors  \n",
    "    - **Output**: `t @ t'`, the matrix multiplication of `t` and `t'`"
   ]
  },
  {
   "cell_type": "code",
   "execution_count": null,
   "metadata": {},
   "outputs": [],
   "source": [
    "# Examples\n",
    "t = torch.ones((3,3))\n",
    "print(\"t:\",t)\n",
    "print(\"t+t:\",t+t)\n",
    "print(\"12*t:\",12*t)\n",
    "t2 = torch.eye(3)\n",
    "print(\"t2:\",t2)\n",
    "print(\"t*t2:\",t*t2)\n",
    "print(\"t@t2:\",t@t2)"
   ]
  },
  {
   "cell_type": "markdown",
   "metadata": {},
   "source": [
    "### Functions for Manipulating Tensor Dimensions\n",
    "\n",
    "Some functions for working with tensor dimensions:\n",
    "\n",
    "- **reshape**:  \n",
    "    - **Input**: A tensor and a compatible size (the number of elements must be the same)  \n",
    "    - **Output**: A tensor with the new size, containing the same values as the original tensor  \n",
    "\n",
    "- **squeeze**:  \n",
    "    - **Input**: A tensor and the index of the dimension of size 1 you want to squeeze  \n",
    "    - **Output**: A tensor with the specified dimension of size 1 removed  \n",
    "\n",
    "- **unsqueeze**:  \n",
    "    - **Input**: A tensor and the index at which to insert the singleton dimension  \n",
    "    - **Output**: A tensor with a new dimension of size one inserted at the specified position  \n",
    "\n",
    "- **unbind**:  \n",
    "    - **Input**: A tensor  \n",
    "    - **Output**: A tuple of all slices along a given dimension, with that dimension removed  \n",
    "\n",
    "- **swapaxes**:  \n",
    "    - **Input**: A tensor, `axis1`, and `axis2`  \n",
    "    - **Output**: A tensor with the specified dimensions (`axis1` and `axis2`) swapped  \n",
    "\n",
    "- **cat**:  \n",
    "    - **Input**: A sequence of tensors and the index of the dimension along which to concatenate the tensors. All tensors must have the same shape, except in the concatenating dimension  \n",
    "    - **Output**: Concatenates the given sequence of tensors along the specified dimension"
   ]
  },
  {
   "cell_type": "code",
   "execution_count": null,
   "metadata": {},
   "outputs": [],
   "source": [
    "# Example for reshape\n",
    "t = torch.tensor([[1, 2, 3], [4, 5, 6]])\n",
    "print(t)\n",
    "print(t.reshape((3, 2)))\n",
    "\n",
    "# As the number of elements must be the same, we let torch infer one dimension by leaving it at -1\n",
    "print(t.reshape((3, -1)))\n",
    "print(t.reshape((-1,)))\n",
    "print(t.reshape(1, 1, 2, 3))\n"
   ]
  },
  {
   "cell_type": "code",
   "execution_count": null,
   "metadata": {},
   "outputs": [],
   "source": [
    "# Example for squeeze\n",
    "t = torch.tensor([[1,2,3,4,5]])\n",
    "print(t)\n",
    "print(t.size())\n",
    "\n",
    "t2 = torch.squeeze(t,0)\n",
    "print(t2)\n",
    "print(t2.size())\n",
    "\n",
    "print()\n",
    "\n",
    "t = torch.tensor([[1],[2],[3],[4],[5]])\n",
    "print(t)\n",
    "print(t.size())\n",
    "\n",
    "t2 = torch.squeeze(t,1)\n",
    "print(t2)\n",
    "print(t2.size())\n"
   ]
  },
  {
   "cell_type": "code",
   "execution_count": null,
   "metadata": {},
   "outputs": [],
   "source": [
    "# Example of unsqueeze\n",
    "t = torch.tensor([1,2,3,4])\n",
    "print(t)\n",
    "print(torch.unsqueeze(t,0))\n",
    "print(torch.unsqueeze(t,1))\n",
    "# for example, it is used for adding a batch dimension as a first dimension : t.unsqueeze(0)"
   ]
  },
  {
   "cell_type": "code",
   "execution_count": null,
   "metadata": {},
   "outputs": [],
   "source": [
    "# Example of unbind\n",
    "t = torch.tensor([[1,2,3],\n",
    "                  [4,5,6],\n",
    "                  [7,8,9]]\n",
    "                )\n",
    "print(t)\n",
    "print(torch.unbind(t,0))\n",
    "print(torch.unbind(t,1))"
   ]
  },
  {
   "cell_type": "code",
   "execution_count": null,
   "metadata": {},
   "outputs": [],
   "source": [
    "# Example of swapaxes \n",
    "t = torch.tensor([[1,2,3],\n",
    "                  [4,5,6],\n",
    "                  [7,8,9]]\n",
    "                )\n",
    "print(t)\n",
    "print(torch.swapaxes(t,0,1))\n",
    "# An example of application:\n",
    "# if you receiv a an image whith size (3,28,28) where 3 are the canals then to swap the canals \n",
    "# to the last dimension you can do torch.swapaxes(t,0,2) and otain a tensor of size (28,28,3)"
   ]
  },
  {
   "cell_type": "code",
   "execution_count": null,
   "metadata": {},
   "outputs": [],
   "source": [
    "# Example for cat\n",
    "t = torch.tensor([[1,2,3],\n",
    "                  [4,5,6],\n",
    "                  [7,8,9]]\n",
    "                )\n",
    "t2 = torch.tensor([[10,11,12],\n",
    "                   [13,14,15],\n",
    "                   [16,17,18]\n",
    "                   ]\n",
    "                )\n",
    "\n",
    "# Concatenate the rows\n",
    "print(torch.cat([t,t2],0))\n",
    "# Concatenate the cols\n",
    "print(torch.cat([t,t2],1))\n",
    "\n",
    "# An example of application:\n",
    "# Create a batch from a sequence of datapoints"
   ]
  },
  {
   "cell_type": "markdown",
   "metadata": {},
   "source": [
    "### Reduction Operations\n",
    "\n",
    "Some functions for extracting data from tensors:\n",
    "\n",
    "- **sum**:  \n",
    "    - **Input**: A tensor  \n",
    "    - **Output**: The sum of all scalars in the tensor  \n",
    "\n",
    "- **mean**:  \n",
    "    - **Input**: A tensor with floating-point scalars  \n",
    "    - **Output**: The mean of the scalars in the tensor  \n",
    "\n",
    "- **amax**:  \n",
    "    - **Input**: A tensor and a dimension  \n",
    "    - **Output**: The maximum value of each slice of the input tensor along the specified dimension"
   ]
  },
  {
   "cell_type": "code",
   "execution_count": null,
   "metadata": {},
   "outputs": [],
   "source": [
    "t = torch.tensor([[1,2],\n",
    "                  [3,4]],dtype=torch.float)\n",
    "print(t.sum())\n",
    "print(t.mean())\n",
    "# for each row we compute the max value\n",
    "print(t.amax(1))\n",
    "# for each col we compute the max value\n",
    "print(t.amax(0))"
   ]
  },
  {
   "cell_type": "markdown",
   "metadata": {},
   "source": [
    "### Math Functions\n",
    "\n",
    "Some important operations:\n",
    "\n",
    "- **allclose** (used to test the equality between two tensors):  \n",
    "    - **Input**: Two tensors, `t1` and `t2`, of the same size  \n",
    "    - **Output**: `True` if all elements of `t1` and `t2` are close enough  \n",
    "\n",
    "- **sign**:  \n",
    "    - **Input**: A tensor  \n",
    "    - **Output**: For each element `x`, returns -1 if `x < 0`, 0 if `x = 0`, and 1 if `x > 0`"
   ]
  },
  {
   "cell_type": "code",
   "execution_count": null,
   "metadata": {},
   "outputs": [],
   "source": [
    "t1 = torch.zeros((3,3),dtype=torch.float)\n",
    "t2 = torch.ones((3,3),dtype=torch.float)\n",
    "\n",
    "# Example for allclose\n",
    "print(torch.allclose(t1,t2))\n",
    "print(torch.allclose(t1,t2/100000000))\n",
    "\n",
    "# Example for sign \n",
    "t = torch.randn((3,3))\n",
    "print(t)\n",
    "print(torch.sign(t))"
   ]
  },
  {
   "cell_type": "markdown",
   "metadata": {},
   "source": [
    "## References\n",
    "- https://pytorch.org/docs/stable/torch.html#tensors"
   ]
  },
  {
   "cell_type": "markdown",
   "metadata": {},
   "source": []
  }
 ],
 "metadata": {
  "kernelspec": {
   "display_name": "Python 3",
   "language": "python",
   "name": "python3"
  },
  "language_info": {
   "codemirror_mode": {
    "name": "ipython",
    "version": 3
   },
   "file_extension": ".py",
   "mimetype": "text/x-python",
   "name": "python",
   "nbconvert_exporter": "python",
   "pygments_lexer": "ipython3",
   "version": "3.12.6"
  }
 },
 "nbformat": 4,
 "nbformat_minor": 2
}

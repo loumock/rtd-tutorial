{
 "cells": [
  {
   "cell_type": "code",
   "execution_count": 4,
   "metadata": {},
   "outputs": [],
   "source": [
    "import torch"
   ]
  },
  {
   "cell_type": "markdown",
   "metadata": {},
   "source": [
    "# Exercices on Tensors"
   ]
  },
  {
   "cell_type": "markdown",
   "metadata": {},
   "source": [
    "## Easy exercices"
   ]
  },
  {
   "cell_type": "markdown",
   "metadata": {},
   "source": [
    "### Matrix multiplication\n",
    "\n",
    "Code a function that take in input two Python matrices and return \n",
    "the multiplication of the two matrices in form of a tensor. You must convert those matrices into tensors \n",
    "and then using the @ operator to do the multiplication and return a tensor"
   ]
  },
  {
   "cell_type": "markdown",
   "metadata": {},
   "source": [
    "### Matrix multiplication: Solution"
   ]
  },
  {
   "cell_type": "code",
   "execution_count": 5,
   "metadata": {},
   "outputs": [],
   "source": [
    "def mult(A,B):\n",
    "    t_A = torch.tensor(A)\n",
    "    t_B = torch.tensor(B)\n",
    "    return A @ B "
   ]
  },
  {
   "cell_type": "markdown",
   "metadata": {},
   "source": [
    "### Average of a 3d tensor\n",
    "\n",
    "Implement a function that take an integer n in input and create a 3d tensor of dim (n,n,n) where its coefficients are sampled from the standard distribution, and finally return the average coefficient of the tensor by computing it yourself"
   ]
  },
  {
   "cell_type": "markdown",
   "metadata": {},
   "source": [
    "### Average of a 3d tensor: Solution"
   ]
  },
  {
   "cell_type": "code",
   "execution_count": 6,
   "metadata": {},
   "outputs": [],
   "source": [
    "def avg_3d(n):\n",
    "    t = torch.randn((n,n,n))\n",
    "    sum = .0\n",
    "    for i in range(n):\n",
    "        for j in range(n):\n",
    "            for k in range(n):\n",
    "                sum += t[i][j][k]\n",
    "    return sum/(n*n*n)"
   ]
  },
  {
   "cell_type": "markdown",
   "metadata": {},
   "source": [
    "## Concatenate rows\n",
    "Sample two random n*n tensors from the uniform distribution on [0,1) and concatenate their rows into one tensor"
   ]
  },
  {
   "cell_type": "markdown",
   "metadata": {},
   "source": [
    "## Concatenate rows : Solution"
   ]
  },
  {
   "cell_type": "code",
   "execution_count": 7,
   "metadata": {},
   "outputs": [],
   "source": [
    "def cat_rows(n):\n",
    "    t1 = torch.rand((n,n))\n",
    "    t2 = torch.rand((n,n))\n",
    "    return torch.cat([t1,t2],0)"
   ]
  },
  {
   "cell_type": "markdown",
   "metadata": {},
   "source": [
    "## Medium exercices"
   ]
  },
  {
   "cell_type": "markdown",
   "metadata": {},
   "source": [
    "### Convolution\n",
    "\n",
    "Write a function taking a (n+2) * (n+2) tensor as an input, that outputs a n * n tensor which is the convolution of the first tensor : \n",
    "for all cases that are far enough from the borders, we compute the average of the 9 cases around."
   ]
  },
  {
   "cell_type": "markdown",
   "metadata": {},
   "source": [
    "### Convolution Solution"
   ]
  },
  {
   "cell_type": "code",
   "execution_count": 8,
   "metadata": {},
   "outputs": [],
   "source": [
    "def convol(t):\n",
    "    n = t.size(0)\n",
    "    t_convol = torch.zeros((n-2,n-2),dtype=float)\n",
    "    for i in range(1,n-1):\n",
    "        for j in range(1,n-1):\n",
    "        # We compute for each (i,j) that have enough neighbors, the mean of the neighboorhood \n",
    "            for l in range(i-1,i-1 + 3):\n",
    "                for k in range(j-1,j-1 + 3):\n",
    "                    t_convol[i-1][j-1] += t[l][k]\n",
    "            t_convol[i-1][j-1] = t_convol[i-1][j-1]/9\n",
    "    return t_convol"
   ]
  },
  {
   "cell_type": "markdown",
   "metadata": {},
   "source": [
    "### Maximum of the rows\n",
    "From a 2d tensor, using the function max, output a 1d tensor containing the maximum value of each row. \n",
    "For example [[1,2],[3,4],[1,2]] -> [2,4,2]"
   ]
  },
  {
   "cell_type": "markdown",
   "metadata": {},
   "source": [
    "### Maximum of the rows: Solution"
   ]
  },
  {
   "cell_type": "code",
   "execution_count": 9,
   "metadata": {},
   "outputs": [],
   "source": [
    "def max_of_rows(t):\n",
    "    return t.max(1).values"
   ]
  },
  {
   "cell_type": "markdown",
   "metadata": {},
   "source": [
    "### Match indices\n",
    "\n",
    "From a n*n tensor t and a 2d tensor id of size n * 1 representing index of the col we want for each line, using gather function, output the 2d tensor \n",
    "[  [ t[0][id[0]] ] , [ t[1][id[1]] ] , ... , [ t[n-1][id[n-1]] ] ]"
   ]
  },
  {
   "cell_type": "markdown",
   "metadata": {},
   "source": [
    "### Match indices: Solution"
   ]
  },
  {
   "cell_type": "code",
   "execution_count": 14,
   "metadata": {},
   "outputs": [
    {
     "name": "stdout",
     "output_type": "stream",
     "text": [
      "tensor([[0.0485, 0.7651, 0.9479],\n",
      "        [0.6339, 0.0483, 0.2329],\n",
      "        [0.5675, 0.6988, 0.4671]])\n",
      "tensor([[0, 1],\n",
      "        [1, 2],\n",
      "        [2, 0]])\n",
      "tensor([[0.0485, 0.7651],\n",
      "        [0.0483, 0.2329],\n",
      "        [0.4671, 0.5675]])\n"
     ]
    }
   ],
   "source": [
    "def match_indices(t,id):\n",
    "    return t.gather(1,id)"
   ]
  },
  {
   "cell_type": "markdown",
   "metadata": {},
   "source": [
    "### Modifying speficific indices\n",
    "\n",
    "From a 2d tensor t , and a 2d boolean tensor b , if b[i][j] = True , shift t[i][j] by 1 and else do nothing. Do it using tensor indexing (you can find a guide [here](https://saturncloud.io/blog/pytorch-tensor-indexing-a-comprehensive-guide/#boolean-indexing))"
   ]
  },
  {
   "cell_type": "code",
   "execution_count": 18,
   "metadata": {},
   "outputs": [
    {
     "name": "stdout",
     "output_type": "stream",
     "text": [
      "tensor([[1., 1., 1.],\n",
      "        [1., 1., 1.],\n",
      "        [1., 1., 1.]])\n",
      "tensor([[2., 1., 1.],\n",
      "        [1., 2., 1.],\n",
      "        [1., 1., 2.]])\n"
     ]
    }
   ],
   "source": [
    "def modifying_specific(t,b):\n",
    "    t[b] = t[b]+1"
   ]
  }
 ],
 "metadata": {
  "kernelspec": {
   "display_name": "Python 3",
   "language": "python",
   "name": "python3"
  },
  "language_info": {
   "codemirror_mode": {
    "name": "ipython",
    "version": 3
   },
   "file_extension": ".py",
   "mimetype": "text/x-python",
   "name": "python",
   "nbconvert_exporter": "python",
   "pygments_lexer": "ipython3",
   "version": "3.10.12"
  }
 },
 "nbformat": 4,
 "nbformat_minor": 2
}

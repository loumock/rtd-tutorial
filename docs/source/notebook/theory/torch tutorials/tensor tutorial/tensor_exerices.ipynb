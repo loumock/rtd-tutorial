{
 "cells": [
  {
   "cell_type": "markdown",
   "metadata": {},
   "source": [
    "# Exercices on Tensors"
   ]
  },
  {
   "cell_type": "code",
   "execution_count": 8,
   "metadata": {},
   "outputs": [],
   "source": [
    "import torch"
   ]
  },
  {
   "cell_type": "markdown",
   "metadata": {},
   "source": [
    "## Easy Exercices"
   ]
  },
  {
   "cell_type": "markdown",
   "metadata": {},
   "source": [
    "### 4D Tensor\n",
    "\n",
    "Provide a formal definition of a 4D tensor."
   ]
  },
  {
   "cell_type": "markdown",
   "metadata": {},
   "source": [
    "### Matrix Multiplication\n",
    "\n",
    "Write a function that takes two Python matrices as input and returns their multiplication as a tensor. \n",
    "You must first convert these matrices into tensors, then use the `@` operator to perform the multiplication and return the result as a tensor.\n"
   ]
  },
  {
   "cell_type": "markdown",
   "metadata": {},
   "source": [
    "### Average of a 3D Tensor\n",
    "\n",
    "Implement a function that takes an integer `n` as input and creates a 3D tensor of shape `(n, n, n)` where its elements are sampled from the standard normal distribution. Finally, return the average of the tensor's elements by computing it manually."
   ]
  },
  {
   "cell_type": "markdown",
   "metadata": {},
   "source": [
    "### Concatenate Rows\n",
    "\n",
    "Sample two random `n * n` tensors from the uniform distribution on [0, 1) and concatenate their rows into a single tensor."
   ]
  },
  {
   "cell_type": "markdown",
   "metadata": {},
   "source": [
    "## Medium exercices"
   ]
  },
  {
   "cell_type": "markdown",
   "metadata": {},
   "source": [
    "### Convolution\n",
    "\n",
    "Write a function that takes a `(n+2) * (n+2)` tensor as input and outputs an `n * n` tensor, which is the convolution of the first tensor. For all cases that are sufficiently far from the borders, compute the average of the 9 neighboring elements."
   ]
  },
  {
   "cell_type": "markdown",
   "metadata": {},
   "source": [
    "### Maximum of the Rows\n",
    "\n",
    "Given a 2D tensor, use the `max` function to output a 1D tensor containing the maximum value of each row.  \n",
    "For example:  \n",
    "`[[1, 2], [3, 4], [1, 2]]` → `[2, 4, 2]`"
   ]
  },
  {
   "cell_type": "markdown",
   "metadata": {},
   "source": [
    "### Match Indices\n",
    "\n",
    "Given an `n * n` tensor `t` and a 2D tensor `id` of size `n * 1` representing the indices of the columns we want for each row, use the `gather` function to output the 2D tensor:  \n",
    "\n",
    "`[[t[0][id[0]]], [t[1][id[1]]], ..., [t[n-1][id[n-1]]]]`"
   ]
  },
  {
   "cell_type": "markdown",
   "metadata": {},
   "source": [
    "### Modifying Specific Indices\n",
    "\n",
    "Given a 2D tensor `t` and a 2D boolean tensor `b`, if `b[i][j] = True`, shift `t[i][j]` by 1; otherwise, do nothing. Perform this using tensor indexing (you can find a guide [here](https://saturncloud.io/blog/pytorch-tensor-indexing-a-comprehensive-guide/#boolean-indexing)).\n"
   ]
  },
  {
   "cell_type": "markdown",
   "metadata": {},
   "source": [
    "# Solutions"
   ]
  },
  {
   "cell_type": "markdown",
   "metadata": {},
   "source": [
    "## Easy Exercices : Solutions"
   ]
  },
  {
   "cell_type": "markdown",
   "metadata": {},
   "source": [
    "### 4D tensor: Solution\n",
    "\n",
    "A 4d tensor $t$ is a familly of scalars indexed by 4 integers $(i_1,i_2,i_3,i_4)$ :\n",
    "$$ t = (t[i_1][i_2][i_3][i_4])_{ 1 \\leq i_1 \\leq n_1 , 1 \\leq i_2 \\leq n_2 1 \\leq i_3 \\leq n_3 , 1 \\leq i_4 \\leq n_4 } $$\n",
    "For some integers $n_1,n_2,n_3,n_4$.\n"
   ]
  },
  {
   "cell_type": "markdown",
   "metadata": {},
   "source": [
    "### Matrix Multiplication: Solution"
   ]
  },
  {
   "cell_type": "code",
   "execution_count": 9,
   "metadata": {},
   "outputs": [],
   "source": [
    "def mult(A,B):\n",
    "    t_A = torch.tensor(A)\n",
    "    t_B = torch.tensor(B)\n",
    "    return A @ B"
   ]
  },
  {
   "cell_type": "markdown",
   "metadata": {},
   "source": [
    "### Average of a 3D Tensor: Solution"
   ]
  },
  {
   "cell_type": "code",
   "execution_count": 10,
   "metadata": {},
   "outputs": [],
   "source": [
    "def avg_3d(n):\n",
    "    t = torch.randn((n,n,n))\n",
    "    sum = .0\n",
    "    for i in range(n):\n",
    "        for j in range(n):\n",
    "            for k in range(n):\n",
    "                sum += t[i][j][k]\n",
    "    return sum/(n*n*n)"
   ]
  },
  {
   "cell_type": "markdown",
   "metadata": {},
   "source": [
    "### Concatenate Rows: Solution"
   ]
  },
  {
   "cell_type": "code",
   "execution_count": 11,
   "metadata": {},
   "outputs": [],
   "source": [
    "def cat_rows(n):\n",
    "    t1 = torch.rand((n,n))\n",
    "    t2 = torch.rand((n,n))\n",
    "    return torch.cat([t1,t2],0)"
   ]
  },
  {
   "cell_type": "markdown",
   "metadata": {},
   "source": [
    "## Medium exercices: Solutions"
   ]
  },
  {
   "cell_type": "markdown",
   "metadata": {},
   "source": [
    "### Convolution Solution"
   ]
  },
  {
   "cell_type": "code",
   "execution_count": 12,
   "metadata": {},
   "outputs": [],
   "source": [
    "def convol(t):\n",
    "    n = t.size(0)\n",
    "    t_convol = torch.zeros((n-2,n-2),dtype=float)\n",
    "    for i in range(1,n-1):\n",
    "        for j in range(1,n-1):\n",
    "        # We compute for each (i,j) that have enough neighbors, the mean of the neighboorhood \n",
    "            for l in range(i-1,i-1 + 3):\n",
    "                for k in range(j-1,j-1 + 3):\n",
    "                    t_convol[i-1][j-1] += t[l][k]\n",
    "            t_convol[i-1][j-1] = t_convol[i-1][j-1]/9\n",
    "    return t_convol"
   ]
  },
  {
   "cell_type": "markdown",
   "metadata": {},
   "source": [
    "### Maximum of the rows: Solution"
   ]
  },
  {
   "cell_type": "code",
   "execution_count": 13,
   "metadata": {},
   "outputs": [],
   "source": [
    "def max_of_rows(t):\n",
    "    return t.max(1).values"
   ]
  },
  {
   "cell_type": "markdown",
   "metadata": {},
   "source": [
    "### Match indices: Solution"
   ]
  },
  {
   "cell_type": "code",
   "execution_count": 14,
   "metadata": {},
   "outputs": [],
   "source": [
    "def match_indices(t,id):\n",
    "    return t.gather(1,id)"
   ]
  },
  {
   "cell_type": "markdown",
   "metadata": {},
   "source": [
    "### Modifying Specific Indices: Solution"
   ]
  },
  {
   "cell_type": "code",
   "execution_count": 15,
   "metadata": {},
   "outputs": [],
   "source": [
    "def modifying_specific(t,b):\n",
    "    t[b] = t[b]+1"
   ]
  }
 ],
 "metadata": {
  "kernelspec": {
   "display_name": "Python 3",
   "language": "python",
   "name": "python3"
  },
  "language_info": {
   "codemirror_mode": {
    "name": "ipython",
    "version": 3
   },
   "file_extension": ".py",
   "mimetype": "text/x-python",
   "name": "python",
   "nbconvert_exporter": "python",
   "pygments_lexer": "ipython3",
   "version": "3.12.6"
  }
 },
 "nbformat": 4,
 "nbformat_minor": 2
}

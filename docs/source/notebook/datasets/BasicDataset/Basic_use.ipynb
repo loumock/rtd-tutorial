{
 "cells": [
  {
   "cell_type": "markdown",
   "metadata": {},
   "source": [
    "# Use of Basic Datasets"
   ]
  },
  {
   "cell_type": "markdown",
   "metadata": {},
   "source": [
    "## .txt and binary files"
   ]
  },
  {
   "cell_type": "markdown",
   "metadata": {},
   "source": [
    "The goal of this tutorial is to teach you how to efficiently use databases stored in .txt files or binary files. Note that these formats are very commonly used. You will also learn the convention that will make your life easier for your future use of databases."
   ]
  },
  {
   "cell_type": "markdown",
   "metadata": {},
   "source": [
    "### 1 Read content of files"
   ]
  },
  {
   "cell_type": "markdown",
   "metadata": {},
   "source": [
    "Python gives us the opportunity to open (with `open()` function), read and write (with `write()` function) in existing files easily.\n",
    "\n",
    "It is important to close files (using the `.close()` method) that you no longer need in your code to free memory.\n",
    "\n",
    "TODO: open the file named \"ex1.txt\" and output its content using the documentation."
   ]
  },
  {
   "cell_type": "markdown",
   "metadata": {},
   "source": [
    "#### Solution"
   ]
  },
  {
   "cell_type": "code",
   "execution_count": 1,
   "metadata": {},
   "outputs": [
    {
     "name": "stdout",
     "output_type": "stream",
     "text": [
      "<_io.TextIOWrapper name='files/ex1.txt' mode='r' encoding='UTF-8'>\n"
     ]
    }
   ],
   "source": [
    "# Define the folder where the file are stored\n",
    "file_folder = \"files/\"\n",
    "\n",
    "# Open the file named \"ex1.txt\" in the \"files/\" folder\n",
    "file1 = open(file_folder + \"ex1.txt\", \"r\")\n",
    "\n",
    "print(file1)"
   ]
  },
  {
   "cell_type": "markdown",
   "metadata": {},
   "source": [
    "The argument `\"r\"` is to indicate our code that we will only read the content of the file.\n",
    "\n",
    "If the path of the file does not exist, python will simply return with an error.\n",
    "\n",
    "Has you can see, printing `file1` does not output the content of `file1`. Nevertheless, we can simply use the container methods (i.e. `in`) to have access to each rows of the file."
   ]
  },
  {
   "cell_type": "code",
   "execution_count": 2,
   "metadata": {},
   "outputs": [
    {
     "name": "stdout",
     "output_type": "stream",
     "text": [
      "row n°1\n",
      "row n°2\n",
      "row n°3\n",
      "row n°4\n"
     ]
    }
   ],
   "source": [
    "for rows in file1:\n",
    "    print(rows, end=\"\")\n",
    "    # the 'end=\"\"' define that print does not end with a \\n\n",
    "\n",
    "# Then don't forget to close the file\n",
    "file1.close()"
   ]
  },
  {
   "cell_type": "markdown",
   "metadata": {},
   "source": [
    "#### Conventions"
   ]
  },
  {
   "cell_type": "markdown",
   "metadata": {},
   "source": [
    "In many database, many data are store in one line. For example if your database store data for each personne, one line correspond to all the data of one personne. To make people's life easier, the data are often separated by a special character that do not appear in the data. For example the following character are often use:\n",
    " - ;\n",
    " - ,\n",
    " - |\n",
    " - .\n",
    "\n",
    "TODO: write a code to create a list of all data from the \"ex2.txt\" file that are separated with the ';' charater. "
   ]
  },
  {
   "cell_type": "code",
   "execution_count": 3,
   "metadata": {},
   "outputs": [
    {
     "name": "stdout",
     "output_type": "stream",
     "text": [
      "[['Pierre', 'Dupont', '32', 'France', 'Paris', 'computer science'], ['Peter', 'Parker', '18', 'US', 'Brooklin', 'math'], ['Steve', 'Rogers', '145', 'US', 'Quince', 'history'], ['Paul', 'Wagner', '14', 'France', 'Lyon', 'computer science']]\n"
     ]
    }
   ],
   "source": [
    "file = open(file_folder + \"ex2.txt\", \"r\")\n",
    "\n",
    "dataset = []\n",
    "for rows in file:\n",
    "    data = rows.split(\";\") # split each data which are separated with the string \";\"\n",
    "    dataset.append(data[:-1]) # add the data list without the last element to the dataset\n",
    "\n",
    "file.close()\n",
    "print(dataset)"
   ]
  },
  {
   "cell_type": "markdown",
   "metadata": {},
   "source": [
    "### 2. Write in files"
   ]
  },
  {
   "cell_type": "markdown",
   "metadata": {},
   "source": [
    "In many situations you will want to write content in some files (to store AI models, when creating your databases, etc...).\n",
    "\n",
    "TODO: Create a file name \"my_file1.txt\" and write the all the values $f(0), f(1), ..., f(1000)$, one value per lines with $f:x\\mapsto x^2$."
   ]
  },
  {
   "cell_type": "markdown",
   "metadata": {},
   "source": [
    "#### Solution"
   ]
  },
  {
   "cell_type": "code",
   "execution_count": 4,
   "metadata": {},
   "outputs": [],
   "source": [
    "file2 = open(file_folder + \"my_file1.txt\", \"w\")\n",
    "# The \"w\" option means that we will write in this file\n",
    "# Note that if the file does not exist, then python will create it\n",
    "\n",
    "for i in range(1001):\n",
    "    txt = str(i**2) + '\\n'\n",
    "    file2.write(txt)\n",
    "\n",
    "file2.close()"
   ]
  },
  {
   "cell_type": "markdown",
   "metadata": {},
   "source": [
    "If you want to create a database, it need to be organise. You don't want to have a single really complexe .txt file. Instead, order database using many directory and files. Note that sometimes special character and spaces in file names can cause some issues. To avoid that, choose clear name with only basic letter (you can use upper letter) and replace spaces with either (2 conventions):\n",
    " - The '_' character: \"my file 1.txt\" $\\rightarrow$ \"my_file_1.txt\"\n",
    " - Or simply delete them and add a upper letter to next word: \"my file 1.txt\" $\\rightarrow$ \"myFile1.txt\"\n",
    "\n",
    "Remember that, if you are storing data in txt files using several lignes, to end your file with a last end of file character so that all line finished by a end of line character (see file from \"file/directories\" for some example)."
   ]
  },
  {
   "cell_type": "markdown",
   "metadata": {},
   "source": [
    "## Navigate throw directories"
   ]
  },
  {
   "cell_type": "markdown",
   "metadata": {},
   "source": [
    "Has said in previous section, database have to be organise throw many directories. But then, how can we navigate throw all directories to get all the data at the same time ?\n",
    "\n",
    "To do that we will use the fonction `walk` from `os` module.\n",
    "\n",
    "TODO: use the `walk` to print all words from the directory named \"file/directories\" and their file name."
   ]
  },
  {
   "cell_type": "code",
   "execution_count": 5,
   "metadata": {},
   "outputs": [
    {
     "name": "stdout",
     "output_type": "stream",
     "text": [
      "files/directories/Class/computer_science.txt :\n",
      "    Quantum Computer Science\n",
      "    Compilations and Programs Analisys\n",
      "    Programmation\n",
      "    Algorithms\n",
      "files/directories/Class/math.txt :\n",
      "    Probability\n",
      "    Algebra\n",
      "    Geometry\n",
      "files/directories/Class/physics.txt :\n",
      "    Quantum physics\n",
      "    Electromagnetism\n",
      "    Optics\n",
      "files/directories/Applications/social_media.txt :\n",
      "    Facebook\n",
      "    Instagram\n",
      "    Tik Tok\n",
      "files/directories/Applications/game.txt :\n",
      "    The Battle Cat\n",
      "    Geometry Dash\n",
      "    ReFactory\n",
      "    Marvel Snap\n",
      "files/directories/Sports/tested.txt :\n",
      "    Volley\n",
      "    Parkour\n",
      "    Badminton\n",
      "    Ping Pong\n",
      "    Running\n",
      "    Climbing\n"
     ]
    }
   ],
   "source": [
    "import os\n",
    "\n",
    "root_directory = file_folder + \"directories/\"\n",
    "\n",
    "for root, subbdirs, files in os.walk(root_directory):\n",
    "    # walk function is recursive\n",
    "    # root is the current root\n",
    "    # subbirs are all the current subdirectories\n",
    "    # files are all the current files\n",
    "    for file_name in files:\n",
    "        file_path = root + '/' + file_name\n",
    "        print(file_path, \":\")\n",
    "        file = open(file_path, \"r\")\n",
    "        for rows in file:\n",
    "            print(\"   \", rows, end=\"\")\n",
    "        file.close()"
   ]
  },
  {
   "cell_type": "markdown",
   "metadata": {},
   "source": [
    "## .xlsx"
   ]
  },
  {
   "cell_type": "markdown",
   "metadata": {},
   "source": [
    "### Reading .xlsx file"
   ]
  },
  {
   "cell_type": "markdown",
   "metadata": {},
   "source": [
    "Databases are really often store in `.xlsx` because it is easy to see the data for everybody. Then, how to read a `.xlsx` file? We will use the python package called `pandas`."
   ]
  },
  {
   "cell_type": "code",
   "execution_count": 6,
   "metadata": {},
   "outputs": [
    {
     "name": "stdout",
     "output_type": "stream",
     "text": [
      "[['Zarkov', 'Thomasset', 'Giroudo'], ['Frank', 'Violette', 'Maxime'], [38, 23, 16], ['Bastketball', 'Climbing', 'Parkour']]\n"
     ]
    }
   ],
   "source": [
    "import pandas\n",
    "import numpy as np\n",
    "\n",
    "def read_columns(path):\n",
    "    # return the list of columns of the .xlsx file\n",
    "    data = pandas.read_excel(path)\n",
    "    return [list(data[data.columns[i]].values) for i in range(len(data.columns))]\n",
    "\n",
    "ds = read_columns(\"files/DB1.xlsx\")\n",
    "print(ds)"
   ]
  },
  {
   "cell_type": "markdown",
   "metadata": {},
   "source": [
    "Here we have a dataset where each row represent the information of some people, then we will prefer to have a liste $\\texttt{L}$ such that $\\texttt{L[i]}$ is the information of the i-th personne. Therefore, we only have to take the transpose of our previous liste."
   ]
  },
  {
   "cell_type": "code",
   "execution_count": 7,
   "metadata": {},
   "outputs": [
    {
     "name": "stdout",
     "output_type": "stream",
     "text": [
      "[['Zarkov' 'Frank' '38' 'Bastketball']\n",
      " ['Thomasset' 'Violette' '23' 'Climbing']\n",
      " ['Giroudo' 'Maxime' '16' 'Parkour']]\n"
     ]
    }
   ],
   "source": [
    "ds = np.transpose(np.array(ds))\n",
    "print(ds)"
   ]
  },
  {
   "cell_type": "markdown",
   "metadata": {},
   "source": [
    "### Creating .xlsx file"
   ]
  },
  {
   "cell_type": "markdown",
   "metadata": {},
   "source": [
    "We would also like to be able to produce `.xlsx` datasets using python.\n",
    "\n",
    "For simplicity, we will continue to use the `pandas` package but you will still need to install the packages names `xlsxwriter`."
   ]
  },
  {
   "cell_type": "code",
   "execution_count": 8,
   "metadata": {},
   "outputs": [],
   "source": [
    "df = pandas.DataFrame({'FirstName': [\"Maxence\", \"Mael\", \"John\"],\n",
    "                       'LastName':  [\"Besantin\", \"Lignac\", \"Smith\"],\n",
    "                       'age':       [12, 63, 22],\n",
    "                    })\n",
    "\n",
    "# Create a Pandas Excel writer using XlsxWriter as the engine.\n",
    "writer = pandas.ExcelWriter(\"files/DB2.xlsx\", engine='xlsxwriter')\n",
    "\n",
    "# Convert the dataframe to an XlsxWriter Excel object.\n",
    "# Turn off the default header and index and skip one row to allow us to insert a user defined header.\n",
    "df.to_excel(writer, sheet_name='Sheet1', startrow=0, header=True, index=False)\n",
    "\n",
    "# Close the Pandas Excel writer and output the Excel file.\n",
    "writer.close()"
   ]
  }
 ],
 "metadata": {
  "kernelspec": {
   "display_name": "Python 3",
   "language": "python",
   "name": "python3"
  },
  "language_info": {
   "codemirror_mode": {
    "name": "ipython",
    "version": 3
   },
   "file_extension": ".py",
   "mimetype": "text/x-python",
   "name": "python",
   "nbconvert_exporter": "python",
   "pygments_lexer": "ipython3",
   "version": "3.12.3"
  }
 },
 "nbformat": 4,
 "nbformat_minor": 2
}

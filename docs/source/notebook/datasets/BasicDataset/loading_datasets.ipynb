{
 "cells": [
  {
   "cell_type": "markdown",
   "metadata": {
    "notebookRunGroups": {
     "groupValue": "1"
    }
   },
   "source": [
    "# Hugging Face"
   ]
  },
  {
   "cell_type": "markdown",
   "metadata": {},
   "source": [
    "Hugging Face is an American company that develops computation tools for building applications using machine learning. It is most notable for its transformers library built for natural language processing applications and its platform that allows users to share machine learning models and datasets and showcase their work. \n",
    "\n",
    "The goal of this tutorial is to introduce how to use dataset from hugging face."
   ]
  },
  {
   "cell_type": "markdown",
   "metadata": {},
   "source": [
    "## Searching for datasets"
   ]
  },
  {
   "cell_type": "markdown",
   "metadata": {},
   "source": [
    "First, go to the `Datasets` tab of the Hugging Face website (https://huggingface.co/datasets) and search for the type of dataset you are interested in.\n",
    "\n",
    "For this tutorial, the goal is to use a dataset that contains images of mathematical formulas generated using LaTeX code and their LaTeX equivalents. For example, there is this dataset: https://huggingface.co/datasets/OleehyO/latex-formulas.\n",
    "\n",
    "On this page, you can see a preview of the dataset, some information about the dataset (size: 2.78GB, number of formulas (rows): 1,558,585, ...), and sometimes quick usage instructions."
   ]
  },
  {
   "cell_type": "markdown",
   "metadata": {},
   "source": [
    "## Load dataset"
   ]
  },
  {
   "cell_type": "markdown",
   "metadata": {},
   "source": [
    "First, we will use the `datasets` Python package (which you need to install) and load the dataset (you need to have access to an internet connection to load the dataset for the first time). The first time you load a dataset, Python will download it, which can take some time depending on the dataset."
   ]
  },
  {
   "cell_type": "code",
   "execution_count": 1,
   "metadata": {},
   "outputs": [
    {
     "name": "stderr",
     "output_type": "stream",
     "text": [
      "/home/maceo/.local/lib/python3.12/site-packages/tqdm/auto.py:21: TqdmWarning: IProgress not found. Please update jupyter and ipywidgets. See https://ipywidgets.readthedocs.io/en/stable/user_install.html\n",
      "  from .autonotebook import tqdm as notebook_tqdm\n"
     ]
    }
   ],
   "source": [
    "from datasets import load_dataset\n",
    "ds = load_dataset(\"OleehyO/latex-formulas\", \"cleaned_formulas\")"
   ]
  },
  {
   "cell_type": "markdown",
   "metadata": {},
   "source": [
    "Note that the `\"cleaned_formulas\"` option is used to load a specific dataset. For more details, refer to the website page."
   ]
  },
  {
   "cell_type": "markdown",
   "metadata": {},
   "source": [
    "## Using dataset"
   ]
  },
  {
   "cell_type": "code",
   "execution_count": 2,
   "metadata": {},
   "outputs": [
    {
     "name": "stdout",
     "output_type": "stream",
     "text": [
      "<class 'datasets.dataset_dict.DatasetDict'>\n",
      "DatasetDict({\n",
      "    train: Dataset({\n",
      "        features: ['image', 'latex_formula'],\n",
      "        num_rows: 552340\n",
      "    })\n",
      "})\n"
     ]
    }
   ],
   "source": [
    "print(type(ds))\n",
    "print(ds)"
   ]
  },
  {
   "cell_type": "markdown",
   "metadata": {},
   "source": [
    "Has you can see, here our dataset only contain one set: `train`. Hovewer, lots of datasets contains multiple sets like: `train`, `validation` and `test`.\n",
    "\n",
    "Moreover, the `train` dataset contain two keys: `'image'` and `'latex_formula'` and have 552340 rows.\n",
    "\n",
    "To access any rows you can do:"
   ]
  },
  {
   "cell_type": "code",
   "execution_count": 3,
   "metadata": {},
   "outputs": [
    {
     "name": "stdout",
     "output_type": "stream",
     "text": [
      "<PIL.JpegImagePlugin.JpegImageFile image mode=RGB size=323x44 at 0x72C4218CC230>\n",
      "\\begin{align*}-\\div (y^{1-2m}\\nabla w)=0\\mbox{in}\\mathbb R^n\\times\\mathbb R_+;w\\big|_{y=0}=|u|\\end{align*}\n"
     ]
    }
   ],
   "source": [
    "train = ds['train']\n",
    "row_0 = train[0] # The first row of the dataset\n",
    "print(row_0['image'])\n",
    "print(row_0['latex_formula'])"
   ]
  },
  {
   "cell_type": "markdown",
   "metadata": {},
   "source": [
    "## Visualisation of images"
   ]
  },
  {
   "cell_type": "markdown",
   "metadata": {},
   "source": [
    "To visualise the images, we can transform them into `numpy` array and them use `matplotlib.pyplot`."
   ]
  },
  {
   "cell_type": "code",
   "execution_count": 4,
   "metadata": {},
   "outputs": [
    {
     "name": "stdout",
     "output_type": "stream",
     "text": [
      "<class 'numpy.ndarray'>\n"
     ]
    }
   ],
   "source": [
    "import numpy as np\n",
    "\n",
    "row = 2\n",
    "arr = np.array(train[row]['image'])\n",
    "print(type(arr))"
   ]
  },
  {
   "cell_type": "code",
   "execution_count": 5,
   "metadata": {},
   "outputs": [
    {
     "data": {
      "image/png": "[encoded data removed]",
      "text/plain": [
       "<Figure size 640x480 with 1 Axes>"
      ]
     },
     "metadata": {},
     "output_type": "display_data"
    },
    {
     "name": "stdout",
     "output_type": "stream",
     "text": [
      "Latex equivalent:\n",
      " \\begin{align*} L_{\\vec{X}} \\phi (\\vec{X}) = \\mbox{Tr}[J] \\phi (\\vec{X}) + P (\\vec{V} \\cdot \\vec{\\gamma})\\end{align*}\n"
     ]
    }
   ],
   "source": [
    "import matplotlib.pyplot as plt\n",
    "\n",
    "plt.imshow(arr)\n",
    "plt.axis(\"off\") # to hide the axis\n",
    "plt.show()\n",
    "print(\"Latex equivalent:\\n\", train[row]['latex_formula'])"
   ]
  },
  {
   "cell_type": "markdown",
   "metadata": {},
   "source": [
    "# Sklearn digits"
   ]
  },
  {
   "cell_type": "markdown",
   "metadata": {},
   "source": [
    "In this part, we will introduce how to use an existing database using the Python package named Sklearn. We will use a database of handwritten digit images."
   ]
  },
  {
   "cell_type": "markdown",
   "metadata": {},
   "source": [
    "## 1.Importing database"
   ]
  },
  {
   "cell_type": "markdown",
   "metadata": {},
   "source": [
    "First, you will need to install the `sklearn` package. To do that, you can run the command: `pip install scikit-learn` in your terminal.\n",
    "\n",
    "After that, we will load an existing database of handwritten digits.\n",
    "\n",
    "As often, we will use the famous numpy package to manage arrays."
   ]
  },
  {
   "cell_type": "code",
   "execution_count": 6,
   "metadata": {},
   "outputs": [],
   "source": [
    "import numpy as np\n",
    "import sklearn as sk\n",
    "from sklearn import datasets\n",
    "\n",
    "digits = datasets.load_digits()"
   ]
  },
  {
   "cell_type": "markdown",
   "metadata": {},
   "source": [
    "## 2.Database information"
   ]
  },
  {
   "cell_type": "markdown",
   "metadata": {},
   "source": [
    "This database is dictonnary composed of many informations that you can see by running"
   ]
  },
  {
   "cell_type": "code",
   "execution_count": 7,
   "metadata": {},
   "outputs": [
    {
     "name": "stdout",
     "output_type": "stream",
     "text": [
      "dict_keys(['data', 'target', 'frame', 'feature_names', 'target_names', 'images', 'DESCR'])\n"
     ]
    }
   ],
   "source": [
    "print(digits.keys())"
   ]
  },
  {
   "cell_type": "markdown",
   "metadata": {},
   "source": [
    "- `data` s the array of all images. An image, here, is represented as an array of floats of length 64 corresponding to an 8x8 image of shades of gray.\n",
    "- `images` is the array of all images in another format. An image, here, is represented as a matrix of floats of size 8x8 corresponding to an 8x8 image of shades of gray.\n",
    "- `target` is the array of target values of each image, i.e., the digit represented by the image.\n",
    "- `taget_names` is  the array of all possible outcomes of value. Here, it is the array `[0 1 2 3 4 5 6 7 8 9]`\n",
    "\n",
    "Remember that to access the size of a numpy array, you can use the method `.shape`."
   ]
  },
  {
   "cell_type": "code",
   "execution_count": 8,
   "metadata": {},
   "outputs": [
    {
     "name": "stdout",
     "output_type": "stream",
     "text": [
      "(1797, 64)\n"
     ]
    }
   ],
   "source": [
    "print(digits.data.shape)"
   ]
  },
  {
   "cell_type": "markdown",
   "metadata": {},
   "source": [
    "This means that `digits.data` is a matrix of size $1797 \\times 64$"
   ]
  },
  {
   "cell_type": "markdown",
   "metadata": {},
   "source": [
    "## 3.Data visualisation"
   ]
  },
  {
   "cell_type": "markdown",
   "metadata": {},
   "source": [
    "We will use the matplotlib.pyplot package to render images of the database.\n",
    "\n",
    "TODO: Create a function to render a single image from the database."
   ]
  },
  {
   "cell_type": "markdown",
   "metadata": {},
   "source": [
    "### Solution"
   ]
  },
  {
   "cell_type": "code",
   "execution_count": 9,
   "metadata": {},
   "outputs": [
    {
     "data": {
      "image/png": "[encoded data removed]",
      "text/plain": [
       "<Figure size 640x480 with 1 Axes>"
      ]
     },
     "metadata": {},
     "output_type": "display_data"
    }
   ],
   "source": [
    "import matplotlib.pyplot as plt\n",
    "plt.rc('font', family='serif', size='18') # Just changing title policy\n",
    "\n",
    "def show_image(i):\n",
    "    # plot the i-th image of the database\n",
    "    plt.imshow(digits.images[i],cmap='binary')\n",
    "    plt.title(digits.target[i])\n",
    "    plt.axis('off')\n",
    "    plt.show()\n",
    "\n",
    "show_image(0)"
   ]
  },
  {
   "cell_type": "markdown",
   "metadata": {},
   "source": [
    "## 4.Splitting dataset"
   ]
  },
  {
   "cell_type": "markdown",
   "metadata": {},
   "source": [
    "We need to split the trainning into two parts: \n",
    "- The tranining part (often around 80% of the database)\n",
    "- The test part (so often 20% of the database)\n",
    "\n",
    "We do that to train our model (that you will learn to do in other notebooks) on a large amout of data.\n",
    "\n",
    "To have a proper understanding of how accurate our model is, we need to test it on data on which the model has not been trained. This is why we keep 20% of the database safe from learning."
   ]
  },
  {
   "cell_type": "code",
   "execution_count": 10,
   "metadata": {},
   "outputs": [
    {
     "name": "stdout",
     "output_type": "stream",
     "text": [
      "dataset training: (1437, 64)\n",
      "dataset test    : (360, 64)\n"
     ]
    }
   ],
   "source": [
    "import random as rd\n",
    "from sklearn.model_selection import train_test_split\n",
    "\n",
    "random_seed = rd.randint(0,4294967295)\n",
    "trainning_size = 0.8\n",
    "# Splitting dataset into 2 parts: trainning and test\n",
    "res = train_test_split(digits.data, digits.target,\n",
    "                        train_size=trainning_size, test_size=1-trainning_size,\n",
    "                        random_state=random_seed)\n",
    "train_data, test_data, train_labels, test_labels = res\n",
    "\n",
    "print(\"dataset training:\", train_data.shape)\n",
    "print(\"dataset test    :\", test_data.shape)"
   ]
  },
  {
   "cell_type": "markdown",
   "metadata": {},
   "source": [
    "If you do not use a random seed, the `res` variable will always be the same. More specifically, the random seed randomized the choice of the `train_data` set and `test_data` is the complementary of `train_data`.\n",
    "\n",
    "The value `4294967295` is the maximal possible value for random seed for the `train_test_split()` function.\n",
    "\n",
    "`train_data` represents 80% of the dataset, train_labels is the target corresponding to the train_data set.\n",
    "\n",
    "`test_data` represents the last 20% of the dataset, test_labels is the target corresponding to the test_data set."
   ]
  }
 ],
 "metadata": {
  "kernelspec": {
   "display_name": "Python 3",
   "language": "python",
   "name": "python3"
  },
  "language_info": {
   "codemirror_mode": {
    "name": "ipython",
    "version": 3
   },
   "file_extension": ".py",
   "mimetype": "text/x-python",
   "name": "python",
   "nbconvert_exporter": "python",
   "pygments_lexer": "ipython3",
   "version": "3.12.3"
  }
 },
 "nbformat": 4,
 "nbformat_minor": 2
}

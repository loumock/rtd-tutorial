{
 "cells": [
  {
   "cell_type": "markdown",
   "metadata": {},
   "source": [
    "# Creating image to latex code dataset"
   ]
  },
  {
   "cell_type": "markdown",
   "metadata": {},
   "source": [
    "The goal of this notebook is to explain you how to build your own mathematical-formula/latex-equivalent datasets."
   ]
  },
  {
   "cell_type": "markdown",
   "metadata": {},
   "source": [
    "## Generating latex code"
   ]
  },
  {
   "cell_type": "markdown",
   "metadata": {},
   "source": [
    "To build a mathematical latex formula, we need to create a file text with all the necessary information to compile it into an To build a mathematical LaTeX formula, we need to create a text file containing all the necessary information to compile it into an image (PDF). First, we must define the required packages in the header of the text file. Then, we add `\\begin{document}`, followed by the code for the mathematical formula, and finally, `\\end{document}`.  \n",
    "\n",
    "Note that in Python, to print a backslash (`\\`), we need to use a double backslash (`\\\\`). The `\\\\[` and `\\\\]` delimit the mathematical formula in LaTeX code."
   ]
  },
  {
   "cell_type": "code",
   "execution_count": 1,
   "metadata": {},
   "outputs": [],
   "source": [
    "header = \"\"\"\n",
    "\\\\documentclass[11pt,a4paper]{article}\n",
    "\\\\usepackage[utf8]{inputenc}\n",
    "\\\\usepackage[T1]{fontenc}\n",
    "\\\\usepackage{hyperref}\n",
    "\\\\usepackage{lmodern}\n",
    "\\\\usepackage[english]{babel}\n",
    "\\\\usepackage{appendix}\n",
    "\\\\usepackage{enumitem}\n",
    "\\\\usepackage{amsfonts}\n",
    "\\\\usepackage{amsmath}\n",
    "\\\\usepackage{amssymb}\n",
    "\\\\usepackage{mathabx}\n",
    "\\\\usepackage{bbm}\n",
    "\n",
    "\\\\pagenumbering{gobble} \n",
    "\n",
    "\\\\begin{document}\n",
    "\\\\[\n",
    "\"\"\"\n",
    "\n",
    "footer = \"\"\"\n",
    "\\\\]\n",
    "\\\\end{document}\n",
    "\"\"\""
   ]
  },
  {
   "cell_type": "markdown",
   "metadata": {},
   "source": [
    "Then we need to generate the code randomly. We will first define all the symbol that we want (you can obiously add the one you want)."
   ]
  },
  {
   "cell_type": "code",
   "execution_count": 2,
   "metadata": {},
   "outputs": [
    {
     "name": "stdout",
     "output_type": "stream",
     "text": [
      "['0', '1', '2', '3', '4', '5', '6', '7', '8', '9', 'a', 'b', 'c', 'd', 'e', 'f', 'g', 'h', 'i', 'j', 'k', 'l', 'm', 'n', 'o', 'p', 'q', 'r', 's', 't', 'u', 'v', 'w', 'x', 'y', 'z', 'A', 'B', 'C', 'D', 'E', 'F', 'G', 'H', 'I', 'J', 'K', 'L', 'M', 'N', 'O', 'P', 'Q', 'R', 'S', 'T', 'U', 'V', 'W', 'X', 'Y', 'Z']\n",
      "['=', '>', '<', '\\\\leq', '\\\\geq', '\\\\equiv', '\\\\sim', '(', ')', '[', ']', '\\\\{', '\\\\}', '\\\\emptyset', '\\\\infty', '+', '-', '\\\\pi', '\\\\Pi', '\\\\sum', '\\\\times', '\\\\sigma', '\\\\rho', 'log', 'exp']\n",
      "['\\\\sqrt', '^', '_', '\\\\mathcal']\n",
      "['\\\\frac', '\\\\underset', '\\\\overset']\n"
     ]
    }
   ],
   "source": [
    "characters = [str(i) for i in range(10)] + [chr(i+97) for i in range(26)] + [chr(i+65) for i in range(26)]\n",
    "symbols = [\"=\", \">\", \"<\", \"\\\\leq\", \"\\\\geq\", \"\\\\equiv\", \"\\\\sim\", \"(\", \")\", \"[\", \"]\", \"\\\\{\", \"\\\\}\", \"\\\\emptyset\", \"\\\\infty\", \"+\",\n",
    "           \"-\", \"\\\\pi\", \"\\\\Pi\", \"\\\\sum\", \"\\\\times\", \"\\\\sigma\", \"\\\\rho\", \"log\", \"exp\"]\n",
    "functions1 = [\"\\\\sqrt\", \"^\", \"_\", \"\\\\mathcal\"]\n",
    "functions2 = [\"\\\\frac\", \"\\\\underset\", \"\\\\overset\"]\n",
    "\n",
    "print(characters)\n",
    "print(symbols)\n",
    "print(functions1)\n",
    "print(functions2)"
   ]
  },
  {
   "cell_type": "markdown",
   "metadata": {},
   "source": [
    "Then, we will randomly generate a formula based on the previous list we have defined."
   ]
  },
  {
   "cell_type": "code",
   "execution_count": 3,
   "metadata": {},
   "outputs": [
    {
     "name": "stdout",
     "output_type": "stream",
     "text": [
      " \\emptyset \\mathcal{ T \\sqrt{ 9 \\leq } u n }\n"
     ]
    }
   ],
   "source": [
    "import random as rd \n",
    "\n",
    "class Config:\n",
    "    \"\"\"Configuration class to generate mathematical formula\"\"\"\n",
    "    lenght_min = 4 # minimal lenght of a formula, i.e. numbers of symbols and characters\n",
    "    lenght_max = 20 # maximal lenght of a formula\n",
    "\n",
    "    f1_min = 1 # minimal number of formula1\n",
    "    f1_max = 2 # maximal number of formula1\n",
    "\n",
    "    f2_min = 0 # minimal number of formula2\n",
    "    f2_max = 1 # maximal number of formula2\n",
    "\n",
    "    \n",
    "\n",
    "def gen_info():\n",
    "    l = rd.randint(Config.lenght_min, Config.lenght_max)\n",
    "    l1 = rd.randint(Config.f1_min, Config.f1_max)\n",
    "    l2 = rd.randint(Config.f2_min, Config.f2_max)\n",
    "    return l, l1, l2\n",
    "\n",
    "\n",
    "def create_formula():\n",
    "    l, l1, l2 = gen_info()\n",
    "\n",
    "    res = [\" \" + rd.choice(characters+symbols) for _ in range(l)]\n",
    "    for _ in range(l1):\n",
    "        id = rd.randint(1, len(res)-2)\n",
    "        n = rd.randint(id+1, len(res))-id\n",
    "\n",
    "        word = \" \" + rd.choice(functions1) + \"{\"\n",
    "        for j in range(id,id+n):\n",
    "            word += res[j]\n",
    "        word += \" }\"\n",
    "        \n",
    "        res = [x for j,x in enumerate(res) if not (id<=j and j<=id+n)]\n",
    "        res.insert(id, word)\n",
    "        #print(id, id+n)\n",
    "\n",
    "    for _ in range(l2):\n",
    "        try:\n",
    "            id = rd.randint(0, len(res)-3)\n",
    "            n = rd.randint(id+1, len(res)-1)-id\n",
    "            m = rd.randint(id+n+1, len(res))-id-n\n",
    "\n",
    "            word = \" \" + rd.choice(functions2) + \"{\"\n",
    "            for j in range(id,id+n):\n",
    "                word += res[j]\n",
    "            word += \" }{ \"\n",
    "            for j in range(id+n,id+n+m):\n",
    "                word += \" \" + res[j]\n",
    "            word += \" }\"\n",
    "            \n",
    "            res = [x for j,x in enumerate(res) if not (id<=j and j<=id+n+m)]\n",
    "            res.insert(id, word)\n",
    "            #print(id, id+n)\n",
    "        except ValueError:\n",
    "            pass\n",
    "\n",
    "    formula = \"\"\n",
    "    for x in res:\n",
    "        formula += x\n",
    "    return formula\n",
    "\n",
    "formula = create_formula()\n",
    "print(formula)\n"
   ]
  },
  {
   "cell_type": "markdown",
   "metadata": {},
   "source": [
    "Now, we can create our full `.tex` document."
   ]
  },
  {
   "cell_type": "code",
   "execution_count": 4,
   "metadata": {},
   "outputs": [
    {
     "name": "stdout",
     "output_type": "stream",
     "text": [
      "\n",
      "\\documentclass[11pt,a4paper]{article}\n",
      "\\usepackage[utf8]{inputenc}\n",
      "\\usepackage[T1]{fontenc}\n",
      "\\usepackage{hyperref}\n",
      "\\usepackage{lmodern}\n",
      "\\usepackage[english]{babel}\n",
      "\\usepackage{appendix}\n",
      "\\usepackage{enumitem}\n",
      "\\usepackage{amsfonts}\n",
      "\\usepackage{amsmath}\n",
      "\\usepackage{amssymb}\n",
      "\\usepackage{mathabx}\n",
      "\\usepackage{bbm}\n",
      "\n",
      "\\pagenumbering{gobble} \n",
      "\n",
      "\\begin{document}\n",
      "\\[\n",
      " \\emptyset \\mathcal{ T \\sqrt{ 9 \\leq } u n }\n",
      "\\]\n",
      "\\end{document}\n",
      "\n"
     ]
    }
   ],
   "source": [
    "tex_doc_str = header + formula + footer\n",
    "print(tex_doc_str)\n",
    "\n",
    "file_name = \"doc1\"\n",
    "f = open(file_name + \".tex\", \"w\")\n",
    "f.write(tex_doc_str)\n",
    "f.close()"
   ]
  },
  {
   "cell_type": "markdown",
   "metadata": {},
   "source": [
    "## Compile .tex document to pdf"
   ]
  },
  {
   "cell_type": "markdown",
   "metadata": {},
   "source": [
    "Then, we need to compile our latex formula to a pdf image. For that we need to install `TexLive`. To install TexLive, run the following command lines in your terminal:\n",
    "\n",
    "`sudo apt-get install texlive-latex-base`\n",
    "\n",
    "`sudo apt-get install texlive-fonts-recommended`\n",
    "\n",
    "`sudo apt-get install texlive-fonts-extra`\n",
    "\n",
    "`sudo apt-get install texlive-latex-extra`"
   ]
  },
  {
   "cell_type": "code",
   "execution_count": 5,
   "metadata": {},
   "outputs": [
    {
     "name": "stdout",
     "output_type": "stream",
     "text": [
      "This is pdfTeX, Version 3.141592653-2.6-1.40.25 (TeX Live 2023/Debian) (preloaded format=pdflatex)\n",
      " restricted \\write18 enabled.\n",
      "entering extended mode\n",
      "(./doc1.tex\n",
      "LaTeX2e <2023-11-01> patch level 1\n",
      "L3 programming layer <2024-01-22>\n",
      "(/usr/share/texlive/texmf-dist/tex/latex/base/article.cls\n",
      "Document Class: article 2023/05/17 v1.4n Standard LaTeX document class\n",
      "(/usr/share/texlive/texmf-dist/tex/latex/base/size11.clo))\n",
      "(/usr/share/texlive/texmf-dist/tex/latex/base/inputenc.sty)\n",
      "(/usr/share/texlive/texmf-dist/tex/latex/base/fontenc.sty)\n",
      "(/usr/share/texlive/texmf-dist/tex/latex/hyperref/hyperref.sty\n",
      "(/usr/share/texlive/texmf-dist/tex/generic/iftex/iftex.sty)\n",
      "(/usr/share/texlive/texmf-dist/tex/latex/graphics/keyval.sty)\n",
      "(/usr/share/texlive/texmf-dist/tex/latex/kvsetkeys/kvsetkeys.sty)\n",
      "(/usr/share/texlive/texmf-dist/tex/generic/kvdefinekeys/kvdefinekeys.sty)\n",
      "(/usr/share/texlive/texmf-dist/tex/generic/pdfescape/pdfescape.sty\n",
      "(/usr/share/texlive/texmf-dist/tex/generic/ltxcmds/ltxcmds.sty)\n",
      "(/usr/share/texlive/texmf-dist/tex/generic/pdftexcmds/pdftexcmds.sty\n",
      "(/usr/share/texlive/texmf-dist/tex/generic/infwarerr/infwarerr.sty)))\n",
      "(/usr/share/texlive/texmf-dist/tex/latex/hycolor/hycolor.sty)\n",
      "(/usr/share/texlive/texmf-dist/tex/latex/auxhook/auxhook.sty)\n",
      "(/usr/share/texlive/texmf-dist/tex/latex/hyperref/nameref.sty\n",
      "(/usr/share/texlive/texmf-dist/tex/latex/refcount/refcount.sty)\n",
      "(/usr/share/texlive/texmf-dist/tex/generic/gettitlestring/gettitlestring.sty\n",
      "(/usr/share/texlive/texmf-dist/tex/latex/kvoptions/kvoptions.sty)))\n",
      "(/usr/share/texlive/texmf-dist/tex/latex/etoolbox/etoolbox.sty)\n",
      "(/usr/share/texlive/texmf-dist/tex/latex/hyperref/pd1enc.def)\n",
      "(/usr/share/texlive/texmf-dist/tex/generic/intcalc/intcalc.sty)\n",
      "(/usr/share/texlive/texmf-dist/tex/latex/hyperref/puenc.def)\n",
      "(/usr/share/texlive/texmf-dist/tex/latex/url/url.sty)\n",
      "(/usr/share/texlive/texmf-dist/tex/generic/bitset/bitset.sty\n",
      "(/usr/share/texlive/texmf-dist/tex/generic/bigintcalc/bigintcalc.sty))\n",
      "(/usr/share/texlive/texmf-dist/tex/latex/base/atbegshi-ltx.sty))\n",
      "(/usr/share/texlive/texmf-dist/tex/latex/hyperref/hpdftex.def\n",
      "(/usr/share/texlive/texmf-dist/tex/latex/base/atveryend-ltx.sty)\n",
      "(/usr/share/texlive/texmf-dist/tex/latex/rerunfilecheck/rerunfilecheck.sty\n",
      "(/usr/share/texlive/texmf-dist/tex/generic/uniquecounter/uniquecounter.sty)))\n",
      "(/usr/share/texmf/tex/latex/lm/lmodern.sty)\n",
      "(/usr/share/texlive/texmf-dist/tex/generic/babel/babel.sty\n",
      "(/usr/share/texlive/texmf-dist/tex/generic/babel/txtbabel.def)\n",
      "(/usr/share/texlive/texmf-dist/tex/generic/babel-english/english.ldf))\n",
      "(/usr/share/texlive/texmf-dist/tex/generic/babel/locale/en/babel-english.tex)\n",
      "(/usr/share/texlive/texmf-dist/tex/latex/appendix/appendix.sty)\n",
      "(/usr/share/texlive/texmf-dist/tex/latex/enumitem/enumitem.sty)\n",
      "(/usr/share/texlive/texmf-dist/tex/latex/amsfonts/amsfonts.sty)\n",
      "(/usr/share/texlive/texmf-dist/tex/latex/amsmath/amsmath.sty\n",
      "For additional information on amsmath, use the `?' option.\n",
      "(/usr/share/texlive/texmf-dist/tex/latex/amsmath/amstext.sty\n",
      "(/usr/share/texlive/texmf-dist/tex/latex/amsmath/amsgen.sty))\n",
      "(/usr/share/texlive/texmf-dist/tex/latex/amsmath/amsbsy.sty)\n",
      "(/usr/share/texlive/texmf-dist/tex/latex/amsmath/amsopn.sty))\n",
      "(/usr/share/texlive/texmf-dist/tex/latex/amsfonts/amssymb.sty)\n",
      "(/usr/share/texlive/texmf-dist/tex/generic/mathabx/mathabx.sty\n",
      "(/usr/share/texlive/texmf-dist/tex/generic/mathabx/mathabx.dcl))\n",
      "(/usr/share/texlive/texmf-dist/tex/latex/bbm-macros/bbm.sty)\n",
      "(/usr/share/texmf/tex/latex/lm/t1lmr.fd)\n",
      "(/usr/share/texlive/texmf-dist/tex/latex/l3backend/l3backend-pdftex.def)\n",
      "(./doc1.aux) (./doc1.out) (./doc1.out) (/usr/share/texmf/tex/latex/lm/ot1lmr.fd\n",
      ") (/usr/share/texmf/tex/latex/lm/omllmm.fd)\n",
      "(/usr/share/texmf/tex/latex/lm/omslmsy.fd)\n",
      "(/usr/share/texmf/tex/latex/lm/omxlmex.fd)\n",
      "(/usr/share/texlive/texmf-dist/tex/latex/amsfonts/umsa.fd)\n",
      "(/usr/share/texlive/texmf-dist/tex/latex/amsfonts/umsb.fd) [1{/var/lib/texmf/fo\n",
      "nts/map/pdftex/updmap/pdftex.map}{/usr/share/texmf/fonts/enc/dvips/lm/lm-mathsy\n",
      ".enc}] (./doc1.aux) )</usr/share/texmf/fonts/type1/public/lm/lmsy10.pfb></usr/s\n",
      "hare/texlive/texmf-dist/fonts/type1/public/mathabx-type1/matha10.pfb>\n",
      "Output written on doc1.pdf (1 page, 8973 bytes).\n",
      "Transcript written on doc1.log.\n"
     ]
    },
    {
     "data": {
      "text/plain": [
       "0"
      ]
     },
     "execution_count": 5,
     "metadata": {},
     "output_type": "execute_result"
    }
   ],
   "source": [
    "import os\n",
    "\n",
    "os.system(\"pdflatex \" + file_name + \".tex\")"
   ]
  },
  {
   "cell_type": "markdown",
   "metadata": {},
   "source": [
    "This will create four files: `.pdf`, `.aux`, `.out` and `.log`. The only one we are insterested in is the `.pdf` one."
   ]
  },
  {
   "cell_type": "markdown",
   "metadata": {},
   "source": [
    "## Computing cleaner image"
   ]
  },
  {
   "cell_type": "markdown",
   "metadata": {},
   "source": [
    "Then, we want to convert our pdf to a cropped image (numpy array). But first we need to convert our pdf to a usable format like `.png`. See the notebook about image dataset for better understanding."
   ]
  },
  {
   "cell_type": "code",
   "execution_count": 6,
   "metadata": {},
   "outputs": [],
   "source": [
    "from pdf2image import convert_from_path\n",
    "\n",
    "pages = convert_from_path(file_name + \".pdf\")\n",
    "\n",
    "for count, page in enumerate(pages):\n",
    "    # We have only one page\n",
    "    page.save(f'{file_name}.png', 'PNG')"
   ]
  },
  {
   "cell_type": "code",
   "execution_count": 7,
   "metadata": {},
   "outputs": [
    {
     "name": "stdout",
     "output_type": "stream",
     "text": [
      "<class 'numpy.ndarray'>\n"
     ]
    },
    {
     "data": {
      "image/png": "[encoded data removed]",
      "text/plain": [
       "<Figure size 640x480 with 1 Axes>"
      ]
     },
     "metadata": {},
     "output_type": "display_data"
    },
    {
     "data": {
      "image/png": "[encoded data removed]",
      "text/plain": [
       "<Figure size 640x480 with 1 Axes>"
      ]
     },
     "metadata": {},
     "output_type": "display_data"
    },
    {
     "name": "stdout",
     "output_type": "stream",
     "text": [
      "<class 'list'>\n"
     ]
    }
   ],
   "source": [
    "import matplotlib.pyplot as plt\n",
    "import numpy as np  \n",
    "import cv2\n",
    "\n",
    "def gray_level(img):\n",
    "    return img[:,:,0]/3 + img[:,:,1]/3 + img[:,:,2]/3\n",
    "\n",
    "def crop(img, wb=0.95, k=0):\n",
    "    n,m = img.shape\n",
    "    _, thresh = cv2.threshold(img, wb, 255, cv2.THRESH_BINARY_INV)\n",
    "    white_pt_coords = np.argwhere(thresh)\n",
    "\n",
    "    x = min(white_pt_coords[:,0])\n",
    "    y = min(white_pt_coords[:,1])\n",
    "    X = max(white_pt_coords[:,0])\n",
    "    Y = max(white_pt_coords[:,1])\n",
    "\n",
    "    return img[max(x-k,0):min(X+k,n), max(y-k,0):min(Y+k,m)]\n",
    "\n",
    "\n",
    "img = plt.imread(file_name + \".png\")\n",
    "print(type(img))\n",
    "plt.imshow(img)\n",
    "plt.show()\n",
    "\n",
    "cropped = crop(gray_level(img), wb=0.95, k=10)\n",
    "plt.imshow(cropped, cmap=\"gray\")\n",
    "plt.show()\n",
    "\n",
    "img = img.tolist()\n",
    "print(type(img))"
   ]
  },
  {
   "cell_type": "markdown",
   "metadata": {},
   "source": [
    "## Creating dataset"
   ]
  },
  {
   "cell_type": "markdown",
   "metadata": {},
   "source": [
    "We finally want to create a dataset wich will be a map containing two fields."
   ]
  },
  {
   "cell_type": "code",
   "execution_count": 8,
   "metadata": {},
   "outputs": [],
   "source": [
    "ds = {\"images\":[], \"latex-formula\":[]}"
   ]
  },
  {
   "cell_type": "markdown",
   "metadata": {},
   "source": [
    "Then we add all the images and corresponding latex-formula we want."
   ]
  },
  {
   "cell_type": "code",
   "execution_count": 9,
   "metadata": {},
   "outputs": [],
   "source": [
    "ds[\"images\"].append(img)\n",
    "ds[\"latex-formula\"].append(formula)"
   ]
  },
  {
   "cell_type": "markdown",
   "metadata": {},
   "source": [
    "Finally we save our dataset thanks to the `json` package."
   ]
  },
  {
   "cell_type": "code",
   "execution_count": 10,
   "metadata": {},
   "outputs": [],
   "source": [
    "import json\n",
    "\n",
    "json_object = json.dumps(ds)\n",
    "\n",
    "ds_name = \"files/image-latex-datasets.json\"\n",
    "with open(ds_name, \"w\") as f :\n",
    "    f.write(json_object)"
   ]
  },
  {
   "cell_type": "markdown",
   "metadata": {},
   "source": [
    "To open your dataset, do this:"
   ]
  },
  {
   "cell_type": "code",
   "execution_count": 11,
   "metadata": {},
   "outputs": [
    {
     "name": "stdout",
     "output_type": "stream",
     "text": [
      "[' \\\\emptyset \\\\mathcal{ T \\\\sqrt{ 9 \\\\leq } u n }']\n"
     ]
    }
   ],
   "source": [
    "with open(ds_name, 'r') as f:\n",
    "    data = json.load(f)\n",
    "\n",
    "print(data[\"latex-formula\"])"
   ]
  }
 ],
 "metadata": {
  "kernelspec": {
   "display_name": "Python 3",
   "language": "python",
   "name": "python3"
  },
  "language_info": {
   "codemirror_mode": {
    "name": "ipython",
    "version": 3
   },
   "file_extension": ".py",
   "mimetype": "text/x-python",
   "name": "python",
   "nbconvert_exporter": "python",
   "pygments_lexer": "ipython3",
   "version": "3.12.3"
  }
 },
 "nbformat": 4,
 "nbformat_minor": 2
}
